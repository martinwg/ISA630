{
  "nbformat": 4,
  "nbformat_minor": 0,
  "metadata": {
    "colab": {
      "provenance": []
    },
    "kernelspec": {
      "name": "python3",
      "display_name": "Python 3"
    },
    "language_info": {
      "name": "python"
    }
  },
  "cells": [
    {
      "cell_type": "code",
      "execution_count": null,
      "metadata": {
        "id": "Xe_zWmh8jSh6"
      },
      "outputs": [],
      "source": [
        "import numpy as np\n",
        "def split_sequence(sequence, n_steps):\n",
        " X, y = list(), list()\n",
        " for i in range(len(sequence)):\n",
        " # find the end of this pattern\n",
        "  end_ix = i + n_steps\n",
        " # check if we are beyond the sequence\n",
        "  if end_ix > len(sequence)-1:\n",
        "    break\n",
        " # gather input and output parts of the pattern\n",
        "  seq_x, seq_y = sequence[i:end_ix], sequence[end_ix]\n",
        "  X.append(seq_x)\n",
        "  y.append(seq_y)\n",
        " return np.array(X), np.array(y)"
      ]
    }
  ]
}