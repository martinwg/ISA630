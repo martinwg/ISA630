{
  "nbformat": 4,
  "nbformat_minor": 0,
  "metadata": {
    "colab": {
      "provenance": []
    },
    "kernelspec": {
      "name": "python3",
      "display_name": "Python 3"
    },
    "language_info": {
      "name": "python"
    }
  },
  "cells": [
    {
      "cell_type": "code",
      "execution_count": null,
      "metadata": {
        "id": "13r4RvDMkYY-"
      },
      "outputs": [],
      "source": [
        "## Lags for multiple predictors\n",
        "import numpy as np\n",
        "vars = ['Open', 'High', 'Low', 'Close', 'Volume']\n",
        "\n",
        "for col in vars:\n",
        "  lags = np.arange(1,10,1)\n",
        "  for lag in lags:\n",
        "    df[\"{}_Lag{}\".format(col, lag)] = df[col].transform(lambda x: x.shift(lag))"
      ]
    }
  ]
}