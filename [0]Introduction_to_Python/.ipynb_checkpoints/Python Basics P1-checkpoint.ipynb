{
 "cells": [
  {
   "cell_type": "markdown",
   "metadata": {
    "id": "ZsM6498oCdbb",
    "slideshow": {
     "slide_type": "slide"
    }
   },
   "source": [
    "## **Identifier Names**"
   ]
  },
  {
   "cell_type": "markdown",
   "metadata": {
    "id": "152_ZEErCkmK",
    "slideshow": {
     "slide_type": "subslide"
    }
   },
   "source": [
    "are references to memory locations. Identifier names are case-sensitive, e.g., my_var is different than my_Var. Identifier names follow rules:\n",
    "\n",
    "* must start with underscores ( _ ) or letters (a - z  A - Z), followed by any number of underscores ( _ ), letters (a - z  A - Z), or digits (0 - 9), e.g.,\n",
    "\n",
    "1.   `var`\n",
    "2.   `my_var`\n",
    "3.   `__index__`\n",
    "\n",
    "* cannot be any reserved word (None, True, False, and, or, not, if, else, elif, for, while, break, continue, pass, def, lambda, global, nonlocal, return, del, in, is, assert, class, try, except, finally, raise, import, from, with, as)"
   ]
  },
  {
   "cell_type": "markdown",
   "metadata": {
    "id": "ZvqnwHucDN0g",
    "slideshow": {
     "slide_type": "slide"
    }
   },
   "source": [
    "## **Variable Types**"
   ]
  },
  {
   "cell_type": "markdown",
   "metadata": {
    "id": "KX-TxDqzKzlS",
    "slideshow": {
     "slide_type": "subslide"
    }
   },
   "source": [
    "### **Integers**\n",
    "\n",
    "Integers are objects - instances of the `int` class."
   ]
  },
  {
   "cell_type": "code",
   "execution_count": 2,
   "metadata": {
    "colab": {
     "base_uri": "https://localhost:8080/"
    },
    "executionInfo": {
     "elapsed": 553,
     "status": "ok",
     "timestamp": 1609894251039,
     "user": {
      "displayName": "Waldyn Martinez",
      "photoUrl": "",
      "userId": "01594382331343119624"
     },
     "user_tz": 300
    },
    "id": "Uu37pls4DPtu",
    "outputId": "db942302-c70d-43db-e08d-3b1668543e8a",
    "slideshow": {
     "slide_type": "subslide"
    }
   },
   "outputs": [
    {
     "name": "stdout",
     "output_type": "stream",
     "text": [
      "<class 'int'>\n"
     ]
    }
   ],
   "source": [
    "print(type(100))"
   ]
  },
  {
   "cell_type": "code",
   "execution_count": 3,
   "metadata": {
    "colab": {
     "base_uri": "https://localhost:8080/"
    },
    "executionInfo": {
     "elapsed": 363,
     "status": "ok",
     "timestamp": 1609894258865,
     "user": {
      "displayName": "Waldyn Martinez",
      "photoUrl": "",
      "userId": "01594382331343119624"
     },
     "user_tz": 300
    },
    "id": "v2UNV3boLMfN",
    "outputId": "dcccd836-029b-4b3d-bdb0-0afa1a4fc3f7",
    "slideshow": {
     "slide_type": "subslide"
    }
   },
   "outputs": [
    {
     "data": {
      "text/plain": [
       "int"
      ]
     },
     "execution_count": 3,
     "metadata": {
      "tags": []
     },
     "output_type": "execute_result"
    }
   ],
   "source": [
    "type(100)"
   ]
  },
  {
   "cell_type": "markdown",
   "metadata": {
    "id": "MTwlGt1KMPoM",
    "slideshow": {
     "slide_type": "subslide"
    }
   },
   "source": [
    "\n",
    "> #### *Integer Constructor*\n",
    "\n"
   ]
  },
  {
   "cell_type": "code",
   "execution_count": 6,
   "metadata": {
    "colab": {
     "base_uri": "https://localhost:8080/"
    },
    "executionInfo": {
     "elapsed": 392,
     "status": "ok",
     "timestamp": 1609894732084,
     "user": {
      "displayName": "Waldyn Martinez",
      "photoUrl": "",
      "userId": "01594382331343119624"
     },
     "user_tz": 300
    },
    "id": "rUv6uztfLOco",
    "outputId": "8884e407-8d5b-470a-f51a-414a1f3ccb21",
    "slideshow": {
     "slide_type": "subslide"
    }
   },
   "outputs": [
    {
     "data": {
      "text/plain": [
       "10"
      ]
     },
     "execution_count": 6,
     "metadata": {
      "tags": []
     },
     "output_type": "execute_result"
    }
   ],
   "source": [
    "int(10)     ## converts to integer"
   ]
  },
  {
   "cell_type": "code",
   "execution_count": 9,
   "metadata": {
    "colab": {
     "base_uri": "https://localhost:8080/"
    },
    "executionInfo": {
     "elapsed": 193,
     "status": "ok",
     "timestamp": 1609894768689,
     "user": {
      "displayName": "Waldyn Martinez",
      "photoUrl": "",
      "userId": "01594382331343119624"
     },
     "user_tz": 300
    },
    "id": "faBH9jRiM6s8",
    "outputId": "9760d522-1f07-4bc5-c0c8-9538e2936806",
    "slideshow": {
     "slide_type": "subslide"
    }
   },
   "outputs": [
    {
     "data": {
      "text/plain": [
       "10"
      ]
     },
     "execution_count": 9,
     "metadata": {
      "tags": []
     },
     "output_type": "execute_result"
    }
   ],
   "source": [
    "int(10.9)   ## applies the floor function"
   ]
  },
  {
   "cell_type": "code",
   "execution_count": 10,
   "metadata": {
    "colab": {
     "base_uri": "https://localhost:8080/"
    },
    "executionInfo": {
     "elapsed": 362,
     "status": "ok",
     "timestamp": 1609894829218,
     "user": {
      "displayName": "Waldyn Martinez",
      "photoUrl": "",
      "userId": "01594382331343119624"
     },
     "user_tz": 300
    },
    "id": "rY2FfHegNER4",
    "outputId": "18a0022d-f000-48b4-886f-7022532c75b6",
    "slideshow": {
     "slide_type": "fragment"
    }
   },
   "outputs": [
    {
     "data": {
      "text/plain": [
       "10"
      ]
     },
     "execution_count": 10,
     "metadata": {
      "tags": []
     },
     "output_type": "execute_result"
    }
   ],
   "source": [
    "int(\"10\")"
   ]
  },
  {
   "cell_type": "code",
   "execution_count": 11,
   "metadata": {
    "colab": {
     "base_uri": "https://localhost:8080/"
    },
    "executionInfo": {
     "elapsed": 397,
     "status": "ok",
     "timestamp": 1609894855729,
     "user": {
      "displayName": "Waldyn Martinez",
      "photoUrl": "",
      "userId": "01594382331343119624"
     },
     "user_tz": 300
    },
    "id": "zFuaU16uNZsY",
    "outputId": "6873b6b0-3bfd-4187-9923-6651da044b49"
   },
   "outputs": [
    {
     "data": {
      "text/plain": [
       "5"
      ]
     },
     "execution_count": 11,
     "metadata": {
      "tags": []
     },
     "output_type": "execute_result"
    }
   ],
   "source": [
    "int(\"101\", base=2)  ## base 2"
   ]
  },
  {
   "cell_type": "markdown",
   "metadata": {
    "id": "JJ_N-GAnblpb"
   },
   "source": [
    "### **Floats**\n",
    "\n",
    "The float class can be used to represent real numbers."
   ]
  },
  {
   "cell_type": "code",
   "execution_count": 12,
   "metadata": {
    "colab": {
     "base_uri": "https://localhost:8080/"
    },
    "executionInfo": {
     "elapsed": 454,
     "status": "ok",
     "timestamp": 1609898834292,
     "user": {
      "displayName": "Waldyn Martinez",
      "photoUrl": "",
      "userId": "01594382331343119624"
     },
     "user_tz": 300
    },
    "id": "Dvm5DIjLNgKE",
    "outputId": "4380f246-3dc4-4cb9-f5a8-0cd912207af1"
   },
   "outputs": [
    {
     "data": {
      "text/plain": [
       "10.0"
      ]
     },
     "execution_count": 12,
     "metadata": {
      "tags": []
     },
     "output_type": "execute_result"
    }
   ],
   "source": [
    "float(10)"
   ]
  },
  {
   "cell_type": "code",
   "execution_count": 13,
   "metadata": {
    "colab": {
     "base_uri": "https://localhost:8080/"
    },
    "executionInfo": {
     "elapsed": 706,
     "status": "ok",
     "timestamp": 1609898882394,
     "user": {
      "displayName": "Waldyn Martinez",
      "photoUrl": "",
      "userId": "01594382331343119624"
     },
     "user_tz": 300
    },
    "id": "WffBs_WGcrdo",
    "outputId": "b1747a0b-5111-49cb-9e32-784d098b35ac"
   },
   "outputs": [
    {
     "data": {
      "text/plain": [
       "3.14"
      ]
     },
     "execution_count": 13,
     "metadata": {
      "tags": []
     },
     "output_type": "execute_result"
    }
   ],
   "source": [
    "float(3.14)"
   ]
  },
  {
   "cell_type": "code",
   "execution_count": 15,
   "metadata": {
    "colab": {
     "base_uri": "https://localhost:8080/"
    },
    "executionInfo": {
     "elapsed": 578,
     "status": "ok",
     "timestamp": 1609898906665,
     "user": {
      "displayName": "Waldyn Martinez",
      "photoUrl": "",
      "userId": "01594382331343119624"
     },
     "user_tz": 300
    },
    "id": "s6Ty6RqOc3J0",
    "outputId": "f822e37c-7c48-473a-bdf2-292fa1a17b6f"
   },
   "outputs": [
    {
     "data": {
      "text/plain": [
       "3.142857142857143"
      ]
     },
     "execution_count": 15,
     "metadata": {
      "tags": []
     },
     "output_type": "execute_result"
    }
   ],
   "source": [
    "from fractions import Fraction\n",
    "float(Fraction('22/7'))"
   ]
  },
  {
   "cell_type": "code",
   "execution_count": 17,
   "metadata": {
    "colab": {
     "base_uri": "https://localhost:8080/",
     "height": 35
    },
    "executionInfo": {
     "elapsed": 434,
     "status": "ok",
     "timestamp": 1609898968984,
     "user": {
      "displayName": "Waldyn Martinez",
      "photoUrl": "",
      "userId": "01594382331343119624"
     },
     "user_tz": 300
    },
    "id": "faoK_aIpc6tY",
    "outputId": "52b823fe-3c9b-4fb0-886c-f409ed420555"
   },
   "outputs": [
    {
     "data": {
      "application/vnd.google.colaboratory.intrinsic+json": {
       "type": "string"
      },
      "text/plain": [
       "'0.1250000000000000000000000'"
      ]
     },
     "execution_count": 17,
     "metadata": {
      "tags": []
     },
     "output_type": "execute_result"
    }
   ],
   "source": [
    "format(0.125, '.25f')  ## you can format the float to show different digits"
   ]
  },
  {
   "cell_type": "markdown",
   "metadata": {
    "id": "p0xhTdokeq0p"
   },
   "source": [
    "\n",
    "> #### *equality*\n",
    "Because not all real numbers have an exact float representation, equality testing can be tricky.\n",
    "\n"
   ]
  },
  {
   "cell_type": "code",
   "execution_count": 18,
   "metadata": {
    "colab": {
     "base_uri": "https://localhost:8080/"
    },
    "executionInfo": {
     "elapsed": 426,
     "status": "ok",
     "timestamp": 1609899425533,
     "user": {
      "displayName": "Waldyn Martinez",
      "photoUrl": "",
      "userId": "01594382331343119624"
     },
     "user_tz": 300
    },
    "id": "4GP0XPMqdEYd",
    "outputId": "67b398ea-3e3b-44cd-dfb7-8e425a57d196"
   },
   "outputs": [
    {
     "data": {
      "text/plain": [
       "False"
      ]
     },
     "execution_count": 18,
     "metadata": {
      "tags": []
     },
     "output_type": "execute_result"
    }
   ],
   "source": [
    "x = 0.1 + 0.1 + 0.1\n",
    "y = 0.3\n",
    "x == y"
   ]
  },
  {
   "cell_type": "code",
   "execution_count": 19,
   "metadata": {
    "colab": {
     "base_uri": "https://localhost:8080/"
    },
    "executionInfo": {
     "elapsed": 458,
     "status": "ok",
     "timestamp": 1609899443910,
     "user": {
      "displayName": "Waldyn Martinez",
      "photoUrl": "",
      "userId": "01594382331343119624"
     },
     "user_tz": 300
    },
    "id": "WuqaG3g1e70s",
    "outputId": "24d10a05-cbcf-437a-f3e1-f17b0c1ef013"
   },
   "outputs": [
    {
     "name": "stdout",
     "output_type": "stream",
     "text": [
      "0.1 --> 0.1000000000000000055511151\n",
      "x --> 0.3000000000000000444089210\n",
      "y --> 0.2999999999999999888977698\n"
     ]
    }
   ],
   "source": [
    "print('0.1 --> {0:.25f}'.format(0.1))\n",
    "print('x --> {0:.25f}'.format(x))\n",
    "print('y --> {0:.25f}'.format(y))"
   ]
  },
  {
   "cell_type": "markdown",
   "metadata": {
    "id": "_Xzw213FgS4E"
   },
   "source": [
    "### **Booleans**\n",
    "\n",
    "All objects in Python have an associated truth value. The \n",
    "\n",
    "```\n",
    "bool()\n",
    "```\n",
    "\n",
    "function gives back the associated truth value of an object\n"
   ]
  },
  {
   "cell_type": "code",
   "execution_count": 20,
   "metadata": {
    "colab": {
     "base_uri": "https://localhost:8080/"
    },
    "executionInfo": {
     "elapsed": 484,
     "status": "ok",
     "timestamp": 1609900077869,
     "user": {
      "displayName": "Waldyn Martinez",
      "photoUrl": "",
      "userId": "01594382331343119624"
     },
     "user_tz": 300
    },
    "id": "309zoCghfATZ",
    "outputId": "f1b40b8c-9ac7-46e5-dee2-8b7baf5bbc28"
   },
   "outputs": [
    {
     "data": {
      "text/plain": [
       "(True, True, True)"
      ]
     },
     "execution_count": 20,
     "metadata": {
      "tags": []
     },
     "output_type": "execute_result"
    }
   ],
   "source": [
    "bool(1), bool(-1), bool(100)"
   ]
  },
  {
   "cell_type": "code",
   "execution_count": 21,
   "metadata": {
    "colab": {
     "base_uri": "https://localhost:8080/"
    },
    "executionInfo": {
     "elapsed": 455,
     "status": "ok",
     "timestamp": 1609900083397,
     "user": {
      "displayName": "Waldyn Martinez",
      "photoUrl": "",
      "userId": "01594382331343119624"
     },
     "user_tz": 300
    },
    "id": "Lmni0yeShbEj",
    "outputId": "80ad915e-bc7e-4929-e478-a496c3b94e63"
   },
   "outputs": [
    {
     "data": {
      "text/plain": [
       "False"
      ]
     },
     "execution_count": 21,
     "metadata": {
      "tags": []
     },
     "output_type": "execute_result"
    }
   ],
   "source": [
    "bool(0)"
   ]
  },
  {
   "cell_type": "code",
   "execution_count": 22,
   "metadata": {
    "colab": {
     "base_uri": "https://localhost:8080/"
    },
    "executionInfo": {
     "elapsed": 492,
     "status": "ok",
     "timestamp": 1609901959674,
     "user": {
      "displayName": "Waldyn Martinez",
      "photoUrl": "",
      "userId": "01594382331343119624"
     },
     "user_tz": 300
    },
    "id": "a7VWpYlXhcbc",
    "outputId": "ae85f136-f202-4303-8efa-cb79d5291b82"
   },
   "outputs": [
    {
     "data": {
      "text/plain": [
       "True"
      ]
     },
     "execution_count": 22,
     "metadata": {
      "tags": []
     },
     "output_type": "execute_result"
    }
   ],
   "source": [
    "bool(100) ## this is the same as (100).__bool__()"
   ]
  },
  {
   "cell_type": "code",
   "execution_count": 27,
   "metadata": {
    "colab": {
     "base_uri": "https://localhost:8080/"
    },
    "executionInfo": {
     "elapsed": 595,
     "status": "ok",
     "timestamp": 1609902437302,
     "user": {
      "displayName": "Waldyn Martinez",
      "photoUrl": "",
      "userId": "01594382331343119624"
     },
     "user_tz": 300
    },
    "id": "pABiWCE1omfZ",
    "outputId": "85c9afc2-a690-42f3-ce93-7194ff8441ee"
   },
   "outputs": [
    {
     "data": {
      "text/plain": [
       "(False, False, False, False, False)"
      ]
     },
     "execution_count": 27,
     "metadata": {
      "tags": []
     },
     "output_type": "execute_result"
    }
   ],
   "source": [
    "## Any zero value is false\n",
    "from fractions import Fraction\n",
    "from decimal import Decimal\n",
    "bool(0), bool(0.0), bool(Fraction(0,1)), bool(Decimal('0')), bool(0j)"
   ]
  },
  {
   "cell_type": "code",
   "execution_count": 28,
   "metadata": {
    "colab": {
     "base_uri": "https://localhost:8080/"
    },
    "executionInfo": {
     "elapsed": 428,
     "status": "ok",
     "timestamp": 1609902471076,
     "user": {
      "displayName": "Waldyn Martinez",
      "photoUrl": "",
      "userId": "01594382331343119624"
     },
     "user_tz": 300
    },
    "id": "y7poCLDkotO2",
    "outputId": "2bff79b9-176b-416c-ce08-7d49b2be9fa2"
   },
   "outputs": [
    {
     "data": {
      "text/plain": [
       "(False, False, False)"
      ]
     },
     "execution_count": 28,
     "metadata": {
      "tags": []
     },
     "output_type": "execute_result"
    }
   ],
   "source": [
    "## Any empty object is false\n",
    "bool([]), bool(()), bool('')"
   ]
  },
  {
   "cell_type": "code",
   "execution_count": 29,
   "metadata": {
    "colab": {
     "base_uri": "https://localhost:8080/"
    },
    "executionInfo": {
     "elapsed": 424,
     "status": "ok",
     "timestamp": 1609902600718,
     "user": {
      "displayName": "Waldyn Martinez",
      "photoUrl": "",
      "userId": "01594382331343119624"
     },
     "user_tz": 300
    },
    "id": "f-ri-tftqjXC",
    "outputId": "365c4a8b-d842-46c4-ab95-0325abd5e66e"
   },
   "outputs": [
    {
     "data": {
      "text/plain": [
       "False"
      ]
     },
     "execution_count": 29,
     "metadata": {
      "tags": []
     },
     "output_type": "execute_result"
    }
   ],
   "source": [
    "## The None object is false\n",
    "bool(None)"
   ]
  },
  {
   "cell_type": "markdown",
   "metadata": {
    "id": "BBWXesERrMfL"
   },
   "source": [
    "> #### *if statements evaluate truth*\n"
   ]
  },
  {
   "cell_type": "code",
   "execution_count": 30,
   "metadata": {
    "colab": {
     "base_uri": "https://localhost:8080/"
    },
    "executionInfo": {
     "elapsed": 412,
     "status": "ok",
     "timestamp": 1609902613419,
     "user": {
      "displayName": "Waldyn Martinez",
      "photoUrl": "",
      "userId": "01594382331343119624"
     },
     "user_tz": 300
    },
    "id": "85k5V_ERrDA5",
    "outputId": "a15f496c-6099-47dc-99e3-76388b19fa35"
   },
   "outputs": [
    {
     "name": "stdout",
     "output_type": "stream",
     "text": [
      "a is None, or a is empty\n"
     ]
    }
   ],
   "source": [
    "a = ''\n",
    "if a:\n",
    "    print(a[0])\n",
    "else:\n",
    "    print('a is None, or a is empty')"
   ]
  },
  {
   "cell_type": "code",
   "execution_count": 32,
   "metadata": {
    "executionInfo": {
     "elapsed": 452,
     "status": "ok",
     "timestamp": 1609902854908,
     "user": {
      "displayName": "Waldyn Martinez",
      "photoUrl": "",
      "userId": "01594382331343119624"
     },
     "user_tz": 300
    },
    "id": "kU8uoTx4rGHs"
   },
   "outputs": [],
   "source": [
    "b = None\n",
    "if b:\n",
    "  print(\"This is printed\")   ## nothing gets printed because the if statement evaluates to False"
   ]
  },
  {
   "cell_type": "markdown",
   "metadata": {
    "id": "Y0EwV4KRsXBk"
   },
   "source": [
    "> #### *Comparison Operators*\n",
    "\n",
    "The == and != operators are value comparison operators."
   ]
  },
  {
   "cell_type": "code",
   "execution_count": 34,
   "metadata": {
    "colab": {
     "base_uri": "https://localhost:8080/"
    },
    "executionInfo": {
     "elapsed": 386,
     "status": "ok",
     "timestamp": 1609903067975,
     "user": {
      "displayName": "Waldyn Martinez",
      "photoUrl": "",
      "userId": "01594382331343119624"
     },
     "user_tz": 300
    },
    "id": "jkcN8khYr2vw",
    "outputId": "fe77c10a-e357-44fa-8160-d8aa9cf9a729"
   },
   "outputs": [
    {
     "data": {
      "text/plain": [
       "True"
      ]
     },
     "execution_count": 34,
     "metadata": {
      "tags": []
     },
     "output_type": "execute_result"
    }
   ],
   "source": [
    "bool(2) == True"
   ]
  },
  {
   "cell_type": "code",
   "execution_count": 35,
   "metadata": {
    "colab": {
     "base_uri": "https://localhost:8080/"
    },
    "executionInfo": {
     "elapsed": 361,
     "status": "ok",
     "timestamp": 1609903094841,
     "user": {
      "displayName": "Waldyn Martinez",
      "photoUrl": "",
      "userId": "01594382331343119624"
     },
     "user_tz": 300
    },
    "id": "PCgKkG3zswuW",
    "outputId": "6d574c49-25c5-4aaf-aed7-63f730f7548a"
   },
   "outputs": [
    {
     "data": {
      "text/plain": [
       "True"
      ]
     },
     "execution_count": 35,
     "metadata": {
      "tags": []
     },
     "output_type": "execute_result"
    }
   ],
   "source": [
    "a = 10\n",
    "b = 10\n",
    "a == b"
   ]
  },
  {
   "cell_type": "code",
   "execution_count": 42,
   "metadata": {
    "colab": {
     "base_uri": "https://localhost:8080/"
    },
    "executionInfo": {
     "elapsed": 385,
     "status": "ok",
     "timestamp": 1609903383279,
     "user": {
      "displayName": "Waldyn Martinez",
      "photoUrl": "",
      "userId": "01594382331343119624"
     },
     "user_tz": 300
    },
    "id": "jFc_QZodt_7j",
    "outputId": "ebf36ab2-c794-42f3-b882-7c45bc421d3f"
   },
   "outputs": [
    {
     "data": {
      "text/plain": [
       "True"
      ]
     },
     "execution_count": 42,
     "metadata": {
      "tags": []
     },
     "output_type": "execute_result"
    }
   ],
   "source": [
    "6 != False"
   ]
  },
  {
   "cell_type": "markdown",
   "metadata": {
    "id": "eZXwYQUZtywQ"
   },
   "source": [
    "Ordering Comparisons"
   ]
  },
  {
   "cell_type": "code",
   "execution_count": 36,
   "metadata": {
    "colab": {
     "base_uri": "https://localhost:8080/"
    },
    "executionInfo": {
     "elapsed": 410,
     "status": "ok",
     "timestamp": 1609903330353,
     "user": {
      "displayName": "Waldyn Martinez",
      "photoUrl": "",
      "userId": "01594382331343119624"
     },
     "user_tz": 300
    },
    "id": "28-uu2rJs7qo",
    "outputId": "859c5578-28ef-4cc0-d606-4a5ef32064de"
   },
   "outputs": [
    {
     "data": {
      "text/plain": [
       "True"
      ]
     },
     "execution_count": 36,
     "metadata": {
      "tags": []
     },
     "output_type": "execute_result"
    }
   ],
   "source": [
    "3 < 4"
   ]
  },
  {
   "cell_type": "code",
   "execution_count": 38,
   "metadata": {
    "colab": {
     "base_uri": "https://localhost:8080/"
    },
    "executionInfo": {
     "elapsed": 392,
     "status": "ok",
     "timestamp": 1609903342192,
     "user": {
      "displayName": "Waldyn Martinez",
      "photoUrl": "",
      "userId": "01594382331343119624"
     },
     "user_tz": 300
    },
    "id": "4VbDPfZit1Jw",
    "outputId": "f5e2de12-b88d-4a4c-df7a-e1c8caa2a64f"
   },
   "outputs": [
    {
     "data": {
      "text/plain": [
       "True"
      ]
     },
     "execution_count": 38,
     "metadata": {
      "tags": []
     },
     "output_type": "execute_result"
    }
   ],
   "source": [
    "5 <= 5"
   ]
  },
  {
   "cell_type": "code",
   "execution_count": 41,
   "metadata": {
    "colab": {
     "base_uri": "https://localhost:8080/"
    },
    "executionInfo": {
     "elapsed": 384,
     "status": "ok",
     "timestamp": 1609903360403,
     "user": {
      "displayName": "Waldyn Martinez",
      "photoUrl": "",
      "userId": "01594382331343119624"
     },
     "user_tz": 300
    },
    "id": "nLVVElbHt2bO",
    "outputId": "96f4aa9e-3219-4687-9b67-2442c4e48ed3"
   },
   "outputs": [
    {
     "data": {
      "text/plain": [
       "True"
      ]
     },
     "execution_count": 41,
     "metadata": {
      "tags": []
     },
     "output_type": "execute_result"
    }
   ],
   "source": [
    "3 >= 2"
   ]
  },
  {
   "cell_type": "code",
   "execution_count": 43,
   "metadata": {
    "colab": {
     "base_uri": "https://localhost:8080/"
    },
    "executionInfo": {
     "elapsed": 405,
     "status": "ok",
     "timestamp": 1609903436258,
     "user": {
      "displayName": "Waldyn Martinez",
      "photoUrl": "",
      "userId": "01594382331343119624"
     },
     "user_tz": 300
    },
    "id": "X9CHoNTdt53Z",
    "outputId": "aa83c82a-f321-47e2-fd07-06f5b697cf50"
   },
   "outputs": [
    {
     "data": {
      "text/plain": [
       "True"
      ]
     },
     "execution_count": 43,
     "metadata": {
      "tags": []
     },
     "output_type": "execute_result"
    }
   ],
   "source": [
    "1 < 2 < 3 ## means 1 < 2 and 2 < 3"
   ]
  },
  {
   "cell_type": "markdown",
   "metadata": {
    "id": "Bi_5QQeBvmqw"
   },
   "source": [
    "\n",
    "\n",
    "> The `in` and `not in` operators are used with iterables and test membership\n",
    "\n"
   ]
  },
  {
   "cell_type": "code",
   "execution_count": 44,
   "metadata": {
    "colab": {
     "base_uri": "https://localhost:8080/"
    },
    "executionInfo": {
     "elapsed": 463,
     "status": "ok",
     "timestamp": 1609903832520,
     "user": {
      "displayName": "Waldyn Martinez",
      "photoUrl": "",
      "userId": "01594382331343119624"
     },
     "user_tz": 300
    },
    "id": "cWQUzatguPAo",
    "outputId": "bdd98d93-afdd-40f5-d4bd-38ef2e00f2cc"
   },
   "outputs": [
    {
     "data": {
      "text/plain": [
       "True"
      ]
     },
     "execution_count": 44,
     "metadata": {
      "tags": []
     },
     "output_type": "execute_result"
    }
   ],
   "source": [
    "1 in [1, 2, 3]"
   ]
  },
  {
   "cell_type": "code",
   "execution_count": 45,
   "metadata": {
    "colab": {
     "base_uri": "https://localhost:8080/"
    },
    "executionInfo": {
     "elapsed": 426,
     "status": "ok",
     "timestamp": 1609903845677,
     "user": {
      "displayName": "Waldyn Martinez",
      "photoUrl": "",
      "userId": "01594382331343119624"
     },
     "user_tz": 300
    },
    "id": "Ry8kC7M0vvvR",
    "outputId": "ffdea611-e997-44d4-cd75-084a19aa4be9"
   },
   "outputs": [
    {
     "data": {
      "text/plain": [
       "False"
      ]
     },
     "execution_count": 45,
     "metadata": {
      "tags": []
     },
     "output_type": "execute_result"
    }
   ],
   "source": [
    "[1, 2] in [1, 2, 3]"
   ]
  },
  {
   "cell_type": "markdown",
   "metadata": {
    "id": "xFwAWHzQwGEO"
   },
   "source": [
    "> The `is` and `is not` operators are used to check memory addresses, so avoid using."
   ]
  },
  {
   "cell_type": "code",
   "execution_count": 47,
   "metadata": {
    "colab": {
     "base_uri": "https://localhost:8080/"
    },
    "executionInfo": {
     "elapsed": 374,
     "status": "ok",
     "timestamp": 1609903982347,
     "user": {
      "displayName": "Waldyn Martinez",
      "photoUrl": "",
      "userId": "01594382331343119624"
     },
     "user_tz": 300
    },
    "id": "9w3_YCC6vy9d",
    "outputId": "9a2eceea-2da2-49c9-acc8-dbfee33cb04e"
   },
   "outputs": [
    {
     "data": {
      "text/plain": [
       "False"
      ]
     },
     "execution_count": 47,
     "metadata": {
      "tags": []
     },
     "output_type": "execute_result"
    }
   ],
   "source": [
    "a = 10000\n",
    "b = 10000\n",
    "a is b"
   ]
  },
  {
   "cell_type": "code",
   "execution_count": 48,
   "metadata": {
    "colab": {
     "base_uri": "https://localhost:8080/"
    },
    "executionInfo": {
     "elapsed": 386,
     "status": "ok",
     "timestamp": 1609904002512,
     "user": {
      "displayName": "Waldyn Martinez",
      "photoUrl": "",
      "userId": "01594382331343119624"
     },
     "user_tz": 300
    },
    "id": "3uSBml0QwP9E",
    "outputId": "89ed5ee0-b6a5-483b-9e1b-e37a078e6324"
   },
   "outputs": [
    {
     "data": {
      "text/plain": [
       "140459077937616"
      ]
     },
     "execution_count": 48,
     "metadata": {
      "tags": []
     },
     "output_type": "execute_result"
    }
   ],
   "source": [
    "id(a) ## shows memory address"
   ]
  },
  {
   "cell_type": "code",
   "execution_count": 49,
   "metadata": {
    "colab": {
     "base_uri": "https://localhost:8080/"
    },
    "executionInfo": {
     "elapsed": 342,
     "status": "ok",
     "timestamp": 1609904005825,
     "user": {
      "displayName": "Waldyn Martinez",
      "photoUrl": "",
      "userId": "01594382331343119624"
     },
     "user_tz": 300
    },
    "id": "d1HpJWabwZQn",
    "outputId": "71db8421-2ae3-4c3a-b73f-d92777883a3f"
   },
   "outputs": [
    {
     "data": {
      "text/plain": [
       "140459077937648"
      ]
     },
     "execution_count": 49,
     "metadata": {
      "tags": []
     },
     "output_type": "execute_result"
    }
   ],
   "source": [
    "id(b)"
   ]
  }
 ],
 "metadata": {
  "celltoolbar": "Slideshow",
  "colab": {
   "authorship_tag": "ABX9TyMy/OKE9NwlCUPypCBJp+gN",
   "name": "Python Basics P1.ipynb",
   "provenance": []
  },
  "kernelspec": {
   "display_name": "Python 3",
   "language": "python",
   "name": "python3"
  },
  "language_info": {
   "codemirror_mode": {
    "name": "ipython",
    "version": 3
   },
   "file_extension": ".py",
   "mimetype": "text/x-python",
   "name": "python",
   "nbconvert_exporter": "python",
   "pygments_lexer": "ipython3",
   "version": "3.8.5"
  }
 },
 "nbformat": 4,
 "nbformat_minor": 1
}
