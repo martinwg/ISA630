{
  "nbformat": 4,
  "nbformat_minor": 0,
  "metadata": {
    "colab": {
      "provenance": []
    },
    "kernelspec": {
      "name": "python3",
      "display_name": "Python 3"
    },
    "language_info": {
      "name": "python"
    }
  },
  "cells": [
    {
      "cell_type": "markdown",
      "source": [
        "## **Multi-Class Classification**\n",
        "\n",
        "We have more than 2 levels. We are using the categorical cross-entropy loss and cost functions."
      ],
      "metadata": {
        "id": "-TJPsGQnhB7V"
      }
    },
    {
      "cell_type": "code",
      "execution_count": 22,
      "metadata": {
        "id": "DqhnSMgihBRa"
      },
      "outputs": [],
      "source": [
        "import numpy as np\n",
        "\n",
        "## suppose this is a car\n",
        "y_true = np.array([0,1,0])\n",
        "p_hat = np.array([0.05,0.9,0.00])\n",
        "\n",
        "def categorical_crossentropy(y_true, p_hat):\n",
        "  return -(y_true[0]*np.log(p_hat[0]) + y_true[1]*np.log(p_hat[1]) + y_true[2]*np.log(p_hat[2])) ## 3 classes"
      ]
    },
    {
      "cell_type": "code",
      "source": [
        "## what happens when p_hat is zero?\n",
        "## the p_hats get clipped (+ or - some small error if zero)\n",
        "categorical_crossentropy(y_true, p_hat)"
      ],
      "metadata": {
        "colab": {
          "base_uri": "https://localhost:8080/"
        },
        "id": "MFVtoTcehVBk",
        "outputId": "da4d554e-2733-4a09-be84-5814b787b07d"
      },
      "execution_count": 23,
      "outputs": [
        {
          "output_type": "stream",
          "name": "stderr",
          "text": [
            "<ipython-input-22-7314fbd14c7b>:8: RuntimeWarning: divide by zero encountered in log\n",
            "  return -(y_true[0]*np.log(p_hat[0]) + y_true[1]*np.log(p_hat[1]) + y_true[2]*np.log(p_hat[2])) ## 3 classes\n",
            "<ipython-input-22-7314fbd14c7b>:8: RuntimeWarning: invalid value encountered in scalar multiply\n",
            "  return -(y_true[0]*np.log(p_hat[0]) + y_true[1]*np.log(p_hat[1]) + y_true[2]*np.log(p_hat[2])) ## 3 classes\n"
          ]
        },
        {
          "output_type": "execute_result",
          "data": {
            "text/plain": [
              "nan"
            ]
          },
          "metadata": {},
          "execution_count": 23
        }
      ]
    },
    {
      "cell_type": "code",
      "source": [
        "## modified to account for zero\n",
        "def categorical_crossentropy(y_true, p_hat):\n",
        "  epsilon = 1e-15\n",
        "  p_hat = np.clip(p_hat, epsilon, 1-epsilon)\n",
        "  return -np.sum(y_true*np.log(p_hat))"
      ],
      "metadata": {
        "id": "y_NLZA29ifCF"
      },
      "execution_count": 25,
      "outputs": []
    },
    {
      "cell_type": "code",
      "source": [
        "categorical_crossentropy(y_true, p_hat)"
      ],
      "metadata": {
        "colab": {
          "base_uri": "https://localhost:8080/"
        },
        "id": "2FcOUR6xjbWP",
        "outputId": "504d6588-83dd-4a09-fdb3-cc86855e387c"
      },
      "execution_count": 26,
      "outputs": [
        {
          "output_type": "execute_result",
          "data": {
            "text/plain": [
              "0.10536051565782628"
            ]
          },
          "metadata": {},
          "execution_count": 26
        }
      ]
    },
    {
      "cell_type": "code",
      "source": [
        "## what is the chance that a p_hat = 0?\n",
        "## statistically, should be 0\n",
        "## does it happen? yes"
      ],
      "metadata": {
        "id": "w1RpIIK5jooY"
      },
      "execution_count": 27,
      "outputs": []
    },
    {
      "cell_type": "code",
      "source": [
        "## good model\n",
        "y_true = [1,0,0]\n",
        "p_hat =[0.99, 0.005, 0.005]\n",
        "\n",
        "categorical_crossentropy(y_true, p_hat)"
      ],
      "metadata": {
        "colab": {
          "base_uri": "https://localhost:8080/"
        },
        "id": "3D6Xd2MGj6qI",
        "outputId": "540295aa-7ad4-4c3f-92b0-f6f7316ca86c"
      },
      "execution_count": 28,
      "outputs": [
        {
          "output_type": "execute_result",
          "data": {
            "text/plain": [
              "0.01005033585350145"
            ]
          },
          "metadata": {},
          "execution_count": 28
        }
      ]
    },
    {
      "cell_type": "code",
      "source": [
        "## good model\n",
        "y_true = [1,0,0]\n",
        "p_hat =[0.05, .7, 0.25]\n",
        "\n",
        "categorical_crossentropy(y_true, p_hat)"
      ],
      "metadata": {
        "colab": {
          "base_uri": "https://localhost:8080/"
        },
        "id": "sMQwIoKTkHfo",
        "outputId": "269e05f6-0096-40eb-872f-1bce187f3515"
      },
      "execution_count": 29,
      "outputs": [
        {
          "output_type": "execute_result",
          "data": {
            "text/plain": [
              "2.995732273553991"
            ]
          },
          "metadata": {},
          "execution_count": 29
        }
      ]
    },
    {
      "cell_type": "code",
      "source": [
        "## Categorical cross-entropy COST FUNCTION\n",
        "## the average of the loss values across observations\n",
        "## modified to account for zero\n",
        "## if we assume that y_true and p_hat are matrices\n",
        "def categorical_crossentropy_cost(y_true, p_hat):\n",
        "  epsilon = 1e-15\n",
        "  p_hat = np.clip(p_hat, epsilon, 1-epsilon)\n",
        "  return -np.mean(y_true*np.log(p_hat))"
      ],
      "metadata": {
        "id": "wk6EralLkO3h"
      },
      "execution_count": 30,
      "outputs": []
    },
    {
      "cell_type": "markdown",
      "source": [
        "## **Example**\n",
        "\n",
        "Iris dataset. Flowers with measures of the petal and sepal width and length. We want to predict whether they are {setosa, versicolor, virginica}."
      ],
      "metadata": {
        "id": "SrWZXpTTmGbU"
      }
    },
    {
      "cell_type": "code",
      "source": [
        "from sklearn import datasets\n",
        "X, y = datasets.load_iris(return_X_y = True)"
      ],
      "metadata": {
        "id": "9wFHzj8Ik2uq"
      },
      "execution_count": 31,
      "outputs": []
    },
    {
      "cell_type": "code",
      "source": [
        "y"
      ],
      "metadata": {
        "colab": {
          "base_uri": "https://localhost:8080/"
        },
        "id": "5LzAfGl4mxIc",
        "outputId": "5ce52228-dd8e-4e16-9e36-5053e82a2d02"
      },
      "execution_count": 33,
      "outputs": [
        {
          "output_type": "execute_result",
          "data": {
            "text/plain": [
              "array([0, 0, 0, 0, 0, 0, 0, 0, 0, 0, 0, 0, 0, 0, 0, 0, 0, 0, 0, 0, 0, 0,\n",
              "       0, 0, 0, 0, 0, 0, 0, 0, 0, 0, 0, 0, 0, 0, 0, 0, 0, 0, 0, 0, 0, 0,\n",
              "       0, 0, 0, 0, 0, 0, 1, 1, 1, 1, 1, 1, 1, 1, 1, 1, 1, 1, 1, 1, 1, 1,\n",
              "       1, 1, 1, 1, 1, 1, 1, 1, 1, 1, 1, 1, 1, 1, 1, 1, 1, 1, 1, 1, 1, 1,\n",
              "       1, 1, 1, 1, 1, 1, 1, 1, 1, 1, 1, 1, 2, 2, 2, 2, 2, 2, 2, 2, 2, 2,\n",
              "       2, 2, 2, 2, 2, 2, 2, 2, 2, 2, 2, 2, 2, 2, 2, 2, 2, 2, 2, 2, 2, 2,\n",
              "       2, 2, 2, 2, 2, 2, 2, 2, 2, 2, 2, 2, 2, 2, 2, 2, 2, 2])"
            ]
          },
          "metadata": {},
          "execution_count": 33
        }
      ]
    },
    {
      "cell_type": "code",
      "source": [
        "## Most models use One vs All (OvR)\n",
        "## the models get broken down into a series of binary classifications\n",
        "## setosa vs {virginica, versicolor}  we get p_hat1\n",
        "## virginica vs {setosa, versicolor}  we get p_hat2\n",
        "## versicolor vs {setosa, virginical} we get p_hat3\n",
        "## obs1 = softmax([phat1, phat2, phat3]) to sum to 1"
      ],
      "metadata": {
        "id": "9Hs6c0plmyOU"
      },
      "execution_count": 34,
      "outputs": []
    },
    {
      "cell_type": "code",
      "source": [
        "## A second strategy One vs One (OvO)\n",
        "## the models get broken into series of binary classifications\n",
        "## setosa vs virginica  we get p_hat1\n",
        "## setosa vs versicolor we get p_hat2\n",
        "## virginica vs versicolor we get p_hat3\n",
        "## obs = softmax([phat1, phat2, phat3, ....])"
      ],
      "metadata": {
        "id": "lAnF9XYynrel"
      },
      "execution_count": 35,
      "outputs": []
    },
    {
      "cell_type": "code",
      "source": [
        "from sklearn.linear_model import LogisticRegression\n",
        "\n",
        "## instance\n",
        "## this is a ONE VS REST approach\n",
        "## cost function: categorical cross entropy (multinomial logistic regression)\n",
        "## softmax\n",
        "lr = LogisticRegression(max_iter = 500)\n",
        "\n",
        "## fit\n",
        "lr.fit(X,y)\n",
        "\n",
        "## predict\n",
        "yhat = lr.predict(X)"
      ],
      "metadata": {
        "id": "lPRFE8aboJMN"
      },
      "execution_count": 39,
      "outputs": []
    },
    {
      "cell_type": "code",
      "source": [
        "## if predictive model, no need to interpret\n",
        "## predictive model (descriptive)\n",
        "np.round(lr.predict_proba(X), decimals=2) ## sum to 1 because of the softmax function"
      ],
      "metadata": {
        "colab": {
          "base_uri": "https://localhost:8080/"
        },
        "id": "dsQf0o6RocMN",
        "outputId": "197cfd46-b818-401f-8ff5-0ae24658429a"
      },
      "execution_count": 42,
      "outputs": [
        {
          "output_type": "execute_result",
          "data": {
            "text/plain": [
              "array([[0.98, 0.02, 0.  ],\n",
              "       [0.97, 0.03, 0.  ],\n",
              "       [0.99, 0.01, 0.  ],\n",
              "       [0.98, 0.02, 0.  ],\n",
              "       [0.99, 0.01, 0.  ],\n",
              "       [0.97, 0.03, 0.  ],\n",
              "       [0.99, 0.01, 0.  ],\n",
              "       [0.98, 0.02, 0.  ],\n",
              "       [0.98, 0.02, 0.  ],\n",
              "       [0.97, 0.03, 0.  ],\n",
              "       [0.98, 0.02, 0.  ],\n",
              "       [0.98, 0.02, 0.  ],\n",
              "       [0.97, 0.03, 0.  ],\n",
              "       [0.99, 0.01, 0.  ],\n",
              "       [0.99, 0.01, 0.  ],\n",
              "       [0.99, 0.01, 0.  ],\n",
              "       [0.99, 0.01, 0.  ],\n",
              "       [0.98, 0.02, 0.  ],\n",
              "       [0.96, 0.04, 0.  ],\n",
              "       [0.98, 0.02, 0.  ],\n",
              "       [0.95, 0.05, 0.  ],\n",
              "       [0.98, 0.02, 0.  ],\n",
              "       [1.  , 0.  , 0.  ],\n",
              "       [0.95, 0.05, 0.  ],\n",
              "       [0.95, 0.05, 0.  ],\n",
              "       [0.95, 0.05, 0.  ],\n",
              "       [0.97, 0.03, 0.  ],\n",
              "       [0.97, 0.03, 0.  ],\n",
              "       [0.98, 0.02, 0.  ],\n",
              "       [0.97, 0.03, 0.  ],\n",
              "       [0.96, 0.04, 0.  ],\n",
              "       [0.96, 0.04, 0.  ],\n",
              "       [0.99, 0.01, 0.  ],\n",
              "       [0.99, 0.01, 0.  ],\n",
              "       [0.97, 0.03, 0.  ],\n",
              "       [0.98, 0.02, 0.  ],\n",
              "       [0.98, 0.02, 0.  ],\n",
              "       [0.99, 0.01, 0.  ],\n",
              "       [0.99, 0.01, 0.  ],\n",
              "       [0.97, 0.03, 0.  ],\n",
              "       [0.99, 0.01, 0.  ],\n",
              "       [0.96, 0.04, 0.  ],\n",
              "       [0.99, 0.01, 0.  ],\n",
              "       [0.97, 0.03, 0.  ],\n",
              "       [0.96, 0.04, 0.  ],\n",
              "       [0.97, 0.03, 0.  ],\n",
              "       [0.98, 0.02, 0.  ],\n",
              "       [0.98, 0.02, 0.  ],\n",
              "       [0.98, 0.02, 0.  ],\n",
              "       [0.98, 0.02, 0.  ],\n",
              "       [0.  , 0.87, 0.12],\n",
              "       [0.01, 0.86, 0.13],\n",
              "       [0.  , 0.73, 0.27],\n",
              "       [0.02, 0.94, 0.04],\n",
              "       [0.  , 0.82, 0.18],\n",
              "       [0.01, 0.86, 0.13],\n",
              "       [0.  , 0.72, 0.28],\n",
              "       [0.15, 0.85, 0.  ],\n",
              "       [0.  , 0.9 , 0.1 ],\n",
              "       [0.04, 0.91, 0.05],\n",
              "       [0.06, 0.94, 0.01],\n",
              "       [0.02, 0.9 , 0.09],\n",
              "       [0.01, 0.98, 0.01],\n",
              "       [0.  , 0.78, 0.22],\n",
              "       [0.07, 0.92, 0.01],\n",
              "       [0.01, 0.93, 0.07],\n",
              "       [0.01, 0.77, 0.22],\n",
              "       [0.02, 0.97, 0.02],\n",
              "       [0.  , 0.8 , 0.2 ],\n",
              "       [0.02, 0.96, 0.02],\n",
              "       [0.  , 0.44, 0.56],\n",
              "       [0.02, 0.96, 0.03],\n",
              "       [0.  , 0.6 , 0.4 ],\n",
              "       [0.  , 0.86, 0.14],\n",
              "       [0.01, 0.94, 0.05],\n",
              "       [0.01, 0.92, 0.07],\n",
              "       [0.  , 0.8 , 0.2 ],\n",
              "       [0.  , 0.48, 0.52],\n",
              "       [0.01, 0.81, 0.18],\n",
              "       [0.06, 0.93, 0.  ],\n",
              "       [0.03, 0.96, 0.01],\n",
              "       [0.04, 0.96, 0.01],\n",
              "       [0.03, 0.96, 0.02],\n",
              "       [0.  , 0.35, 0.65],\n",
              "       [0.01, 0.75, 0.24],\n",
              "       [0.01, 0.79, 0.2 ],\n",
              "       [0.  , 0.81, 0.19],\n",
              "       [0.  , 0.91, 0.08],\n",
              "       [0.03, 0.93, 0.04],\n",
              "       [0.02, 0.94, 0.04],\n",
              "       [0.01, 0.9 , 0.09],\n",
              "       [0.  , 0.83, 0.17],\n",
              "       [0.02, 0.96, 0.03],\n",
              "       [0.12, 0.88, 0.  ],\n",
              "       [0.01, 0.92, 0.07],\n",
              "       [0.02, 0.94, 0.04],\n",
              "       [0.02, 0.93, 0.06],\n",
              "       [0.01, 0.94, 0.06],\n",
              "       [0.24, 0.76, 0.  ],\n",
              "       [0.02, 0.94, 0.04],\n",
              "       [0.  , 0.  , 1.  ],\n",
              "       [0.  , 0.16, 0.84],\n",
              "       [0.  , 0.03, 0.97],\n",
              "       [0.  , 0.08, 0.92],\n",
              "       [0.  , 0.02, 0.98],\n",
              "       [0.  , 0.  , 1.  ],\n",
              "       [0.01, 0.51, 0.48],\n",
              "       [0.  , 0.02, 0.98],\n",
              "       [0.  , 0.05, 0.95],\n",
              "       [0.  , 0.01, 0.99],\n",
              "       [0.  , 0.21, 0.79],\n",
              "       [0.  , 0.14, 0.86],\n",
              "       [0.  , 0.07, 0.93],\n",
              "       [0.  , 0.15, 0.85],\n",
              "       [0.  , 0.04, 0.96],\n",
              "       [0.  , 0.05, 0.95],\n",
              "       [0.  , 0.12, 0.88],\n",
              "       [0.  , 0.  , 1.  ],\n",
              "       [0.  , 0.  , 1.  ],\n",
              "       [0.  , 0.45, 0.55],\n",
              "       [0.  , 0.02, 0.98],\n",
              "       [0.  , 0.19, 0.81],\n",
              "       [0.  , 0.  , 1.  ],\n",
              "       [0.  , 0.39, 0.61],\n",
              "       [0.  , 0.04, 0.96],\n",
              "       [0.  , 0.05, 0.95],\n",
              "       [0.  , 0.46, 0.54],\n",
              "       [0.  , 0.39, 0.61],\n",
              "       [0.  , 0.04, 0.96],\n",
              "       [0.  , 0.14, 0.86],\n",
              "       [0.  , 0.03, 0.97],\n",
              "       [0.  , 0.02, 0.98],\n",
              "       [0.  , 0.03, 0.97],\n",
              "       [0.  , 0.48, 0.52],\n",
              "       [0.  , 0.19, 0.81],\n",
              "       [0.  , 0.01, 0.99],\n",
              "       [0.  , 0.02, 0.98],\n",
              "       [0.  , 0.12, 0.88],\n",
              "       [0.  , 0.44, 0.56],\n",
              "       [0.  , 0.09, 0.91],\n",
              "       [0.  , 0.02, 0.98],\n",
              "       [0.  , 0.12, 0.88],\n",
              "       [0.  , 0.16, 0.84],\n",
              "       [0.  , 0.01, 0.99],\n",
              "       [0.  , 0.01, 0.99],\n",
              "       [0.  , 0.08, 0.92],\n",
              "       [0.  , 0.25, 0.75],\n",
              "       [0.  , 0.16, 0.84],\n",
              "       [0.  , 0.04, 0.96],\n",
              "       [0.  , 0.23, 0.76]])"
            ]
          },
          "metadata": {},
          "execution_count": 42
        }
      ]
    },
    {
      "cell_type": "code",
      "source": [
        "## prediction is np.argmax(p_hat, axis = 1)\n",
        "p_hat = lr.predict_proba(X)\n",
        "np.argmax(p_hat, axis = 1) ## select the highest prob"
      ],
      "metadata": {
        "colab": {
          "base_uri": "https://localhost:8080/"
        },
        "id": "_5DmyBEaogIl",
        "outputId": "d025bef1-9278-4418-ba84-5ec04152e0ea"
      },
      "execution_count": 45,
      "outputs": [
        {
          "output_type": "execute_result",
          "data": {
            "text/plain": [
              "array([0, 0, 0, 0, 0, 0, 0, 0, 0, 0, 0, 0, 0, 0, 0, 0, 0, 0, 0, 0, 0, 0,\n",
              "       0, 0, 0, 0, 0, 0, 0, 0, 0, 0, 0, 0, 0, 0, 0, 0, 0, 0, 0, 0, 0, 0,\n",
              "       0, 0, 0, 0, 0, 0, 1, 1, 1, 1, 1, 1, 1, 1, 1, 1, 1, 1, 1, 1, 1, 1,\n",
              "       1, 1, 1, 1, 2, 1, 1, 1, 1, 1, 1, 2, 1, 1, 1, 1, 1, 2, 1, 1, 1, 1,\n",
              "       1, 1, 1, 1, 1, 1, 1, 1, 1, 1, 1, 1, 2, 2, 2, 2, 2, 2, 1, 2, 2, 2,\n",
              "       2, 2, 2, 2, 2, 2, 2, 2, 2, 2, 2, 2, 2, 2, 2, 2, 2, 2, 2, 2, 2, 2,\n",
              "       2, 2, 2, 2, 2, 2, 2, 2, 2, 2, 2, 2, 2, 2, 2, 2, 2, 2])"
            ]
          },
          "metadata": {},
          "execution_count": 45
        }
      ]
    },
    {
      "cell_type": "code",
      "source": [
        "## interpretations\n",
        "lr.coef_  ## slopes of each variable\n",
        "## model 1: class 0 vs the rest (-0.42456599,  0.96664261, -2.51554625, -1.08216927)\n",
        "## x1 = sepal width\n",
        "## model 1: as x1 increases by 1, then the log(odds) of being a setosa flower decrease 0.42456599"
      ],
      "metadata": {
        "colab": {
          "base_uri": "https://localhost:8080/"
        },
        "id": "GRN7UiqiqN02",
        "outputId": "9d9eb43e-59d2-4914-b33f-dbdab080bd44"
      },
      "execution_count": 46,
      "outputs": [
        {
          "output_type": "execute_result",
          "data": {
            "text/plain": [
              "array([[-0.42456599,  0.96664261, -2.51554625, -1.08216927],\n",
              "       [ 0.53541119, -0.32073935, -0.20740629, -0.94263206],\n",
              "       [-0.1108452 , -0.64590325,  2.72295254,  2.02480133]])"
            ]
          },
          "metadata": {},
          "execution_count": 46
        }
      ]
    },
    {
      "cell_type": "code",
      "source": [
        "X"
      ],
      "metadata": {
        "colab": {
          "base_uri": "https://localhost:8080/"
        },
        "id": "0aUtBn5Bqbm2",
        "outputId": "25bea5b3-9b23-4cd7-b4ed-fd6dfeb0fdfd"
      },
      "execution_count": 48,
      "outputs": [
        {
          "output_type": "execute_result",
          "data": {
            "text/plain": [
              "array([[5.1, 3.5, 1.4, 0.2],\n",
              "       [4.9, 3. , 1.4, 0.2],\n",
              "       [4.7, 3.2, 1.3, 0.2],\n",
              "       [4.6, 3.1, 1.5, 0.2],\n",
              "       [5. , 3.6, 1.4, 0.2],\n",
              "       [5.4, 3.9, 1.7, 0.4],\n",
              "       [4.6, 3.4, 1.4, 0.3],\n",
              "       [5. , 3.4, 1.5, 0.2],\n",
              "       [4.4, 2.9, 1.4, 0.2],\n",
              "       [4.9, 3.1, 1.5, 0.1],\n",
              "       [5.4, 3.7, 1.5, 0.2],\n",
              "       [4.8, 3.4, 1.6, 0.2],\n",
              "       [4.8, 3. , 1.4, 0.1],\n",
              "       [4.3, 3. , 1.1, 0.1],\n",
              "       [5.8, 4. , 1.2, 0.2],\n",
              "       [5.7, 4.4, 1.5, 0.4],\n",
              "       [5.4, 3.9, 1.3, 0.4],\n",
              "       [5.1, 3.5, 1.4, 0.3],\n",
              "       [5.7, 3.8, 1.7, 0.3],\n",
              "       [5.1, 3.8, 1.5, 0.3],\n",
              "       [5.4, 3.4, 1.7, 0.2],\n",
              "       [5.1, 3.7, 1.5, 0.4],\n",
              "       [4.6, 3.6, 1. , 0.2],\n",
              "       [5.1, 3.3, 1.7, 0.5],\n",
              "       [4.8, 3.4, 1.9, 0.2],\n",
              "       [5. , 3. , 1.6, 0.2],\n",
              "       [5. , 3.4, 1.6, 0.4],\n",
              "       [5.2, 3.5, 1.5, 0.2],\n",
              "       [5.2, 3.4, 1.4, 0.2],\n",
              "       [4.7, 3.2, 1.6, 0.2],\n",
              "       [4.8, 3.1, 1.6, 0.2],\n",
              "       [5.4, 3.4, 1.5, 0.4],\n",
              "       [5.2, 4.1, 1.5, 0.1],\n",
              "       [5.5, 4.2, 1.4, 0.2],\n",
              "       [4.9, 3.1, 1.5, 0.2],\n",
              "       [5. , 3.2, 1.2, 0.2],\n",
              "       [5.5, 3.5, 1.3, 0.2],\n",
              "       [4.9, 3.6, 1.4, 0.1],\n",
              "       [4.4, 3. , 1.3, 0.2],\n",
              "       [5.1, 3.4, 1.5, 0.2],\n",
              "       [5. , 3.5, 1.3, 0.3],\n",
              "       [4.5, 2.3, 1.3, 0.3],\n",
              "       [4.4, 3.2, 1.3, 0.2],\n",
              "       [5. , 3.5, 1.6, 0.6],\n",
              "       [5.1, 3.8, 1.9, 0.4],\n",
              "       [4.8, 3. , 1.4, 0.3],\n",
              "       [5.1, 3.8, 1.6, 0.2],\n",
              "       [4.6, 3.2, 1.4, 0.2],\n",
              "       [5.3, 3.7, 1.5, 0.2],\n",
              "       [5. , 3.3, 1.4, 0.2],\n",
              "       [7. , 3.2, 4.7, 1.4],\n",
              "       [6.4, 3.2, 4.5, 1.5],\n",
              "       [6.9, 3.1, 4.9, 1.5],\n",
              "       [5.5, 2.3, 4. , 1.3],\n",
              "       [6.5, 2.8, 4.6, 1.5],\n",
              "       [5.7, 2.8, 4.5, 1.3],\n",
              "       [6.3, 3.3, 4.7, 1.6],\n",
              "       [4.9, 2.4, 3.3, 1. ],\n",
              "       [6.6, 2.9, 4.6, 1.3],\n",
              "       [5.2, 2.7, 3.9, 1.4],\n",
              "       [5. , 2. , 3.5, 1. ],\n",
              "       [5.9, 3. , 4.2, 1.5],\n",
              "       [6. , 2.2, 4. , 1. ],\n",
              "       [6.1, 2.9, 4.7, 1.4],\n",
              "       [5.6, 2.9, 3.6, 1.3],\n",
              "       [6.7, 3.1, 4.4, 1.4],\n",
              "       [5.6, 3. , 4.5, 1.5],\n",
              "       [5.8, 2.7, 4.1, 1. ],\n",
              "       [6.2, 2.2, 4.5, 1.5],\n",
              "       [5.6, 2.5, 3.9, 1.1],\n",
              "       [5.9, 3.2, 4.8, 1.8],\n",
              "       [6.1, 2.8, 4. , 1.3],\n",
              "       [6.3, 2.5, 4.9, 1.5],\n",
              "       [6.1, 2.8, 4.7, 1.2],\n",
              "       [6.4, 2.9, 4.3, 1.3],\n",
              "       [6.6, 3. , 4.4, 1.4],\n",
              "       [6.8, 2.8, 4.8, 1.4],\n",
              "       [6.7, 3. , 5. , 1.7],\n",
              "       [6. , 2.9, 4.5, 1.5],\n",
              "       [5.7, 2.6, 3.5, 1. ],\n",
              "       [5.5, 2.4, 3.8, 1.1],\n",
              "       [5.5, 2.4, 3.7, 1. ],\n",
              "       [5.8, 2.7, 3.9, 1.2],\n",
              "       [6. , 2.7, 5.1, 1.6],\n",
              "       [5.4, 3. , 4.5, 1.5],\n",
              "       [6. , 3.4, 4.5, 1.6],\n",
              "       [6.7, 3.1, 4.7, 1.5],\n",
              "       [6.3, 2.3, 4.4, 1.3],\n",
              "       [5.6, 3. , 4.1, 1.3],\n",
              "       [5.5, 2.5, 4. , 1.3],\n",
              "       [5.5, 2.6, 4.4, 1.2],\n",
              "       [6.1, 3. , 4.6, 1.4],\n",
              "       [5.8, 2.6, 4. , 1.2],\n",
              "       [5. , 2.3, 3.3, 1. ],\n",
              "       [5.6, 2.7, 4.2, 1.3],\n",
              "       [5.7, 3. , 4.2, 1.2],\n",
              "       [5.7, 2.9, 4.2, 1.3],\n",
              "       [6.2, 2.9, 4.3, 1.3],\n",
              "       [5.1, 2.5, 3. , 1.1],\n",
              "       [5.7, 2.8, 4.1, 1.3],\n",
              "       [6.3, 3.3, 6. , 2.5],\n",
              "       [5.8, 2.7, 5.1, 1.9],\n",
              "       [7.1, 3. , 5.9, 2.1],\n",
              "       [6.3, 2.9, 5.6, 1.8],\n",
              "       [6.5, 3. , 5.8, 2.2],\n",
              "       [7.6, 3. , 6.6, 2.1],\n",
              "       [4.9, 2.5, 4.5, 1.7],\n",
              "       [7.3, 2.9, 6.3, 1.8],\n",
              "       [6.7, 2.5, 5.8, 1.8],\n",
              "       [7.2, 3.6, 6.1, 2.5],\n",
              "       [6.5, 3.2, 5.1, 2. ],\n",
              "       [6.4, 2.7, 5.3, 1.9],\n",
              "       [6.8, 3. , 5.5, 2.1],\n",
              "       [5.7, 2.5, 5. , 2. ],\n",
              "       [5.8, 2.8, 5.1, 2.4],\n",
              "       [6.4, 3.2, 5.3, 2.3],\n",
              "       [6.5, 3. , 5.5, 1.8],\n",
              "       [7.7, 3.8, 6.7, 2.2],\n",
              "       [7.7, 2.6, 6.9, 2.3],\n",
              "       [6. , 2.2, 5. , 1.5],\n",
              "       [6.9, 3.2, 5.7, 2.3],\n",
              "       [5.6, 2.8, 4.9, 2. ],\n",
              "       [7.7, 2.8, 6.7, 2. ],\n",
              "       [6.3, 2.7, 4.9, 1.8],\n",
              "       [6.7, 3.3, 5.7, 2.1],\n",
              "       [7.2, 3.2, 6. , 1.8],\n",
              "       [6.2, 2.8, 4.8, 1.8],\n",
              "       [6.1, 3. , 4.9, 1.8],\n",
              "       [6.4, 2.8, 5.6, 2.1],\n",
              "       [7.2, 3. , 5.8, 1.6],\n",
              "       [7.4, 2.8, 6.1, 1.9],\n",
              "       [7.9, 3.8, 6.4, 2. ],\n",
              "       [6.4, 2.8, 5.6, 2.2],\n",
              "       [6.3, 2.8, 5.1, 1.5],\n",
              "       [6.1, 2.6, 5.6, 1.4],\n",
              "       [7.7, 3. , 6.1, 2.3],\n",
              "       [6.3, 3.4, 5.6, 2.4],\n",
              "       [6.4, 3.1, 5.5, 1.8],\n",
              "       [6. , 3. , 4.8, 1.8],\n",
              "       [6.9, 3.1, 5.4, 2.1],\n",
              "       [6.7, 3.1, 5.6, 2.4],\n",
              "       [6.9, 3.1, 5.1, 2.3],\n",
              "       [5.8, 2.7, 5.1, 1.9],\n",
              "       [6.8, 3.2, 5.9, 2.3],\n",
              "       [6.7, 3.3, 5.7, 2.5],\n",
              "       [6.7, 3. , 5.2, 2.3],\n",
              "       [6.3, 2.5, 5. , 1.9],\n",
              "       [6.5, 3. , 5.2, 2. ],\n",
              "       [6.2, 3.4, 5.4, 2.3],\n",
              "       [5.9, 3. , 5.1, 1.8]])"
            ]
          },
          "metadata": {},
          "execution_count": 48
        }
      ]
    },
    {
      "cell_type": "code",
      "source": [
        "## do all models have OvR approach?\n",
        "## tree-based (RF,  XGBoost, Adaboost)\n",
        "## does not need to be binary"
      ],
      "metadata": {
        "id": "OmwXB5sXqfOm"
      },
      "execution_count": 49,
      "outputs": []
    },
    {
      "cell_type": "code",
      "source": [
        "from sklearn.ensemble import RandomForestClassifier\n",
        "\n",
        "## instance\n",
        "rf = RandomForestClassifier()\n",
        "\n",
        "## fit and predict\n",
        "yhat1 = rf.fit(X,y).predict(X)"
      ],
      "metadata": {
        "id": "Iud8ZcA-riCn"
      },
      "execution_count": 50,
      "outputs": []
    },
    {
      "cell_type": "code",
      "source": [
        "yhat1"
      ],
      "metadata": {
        "colab": {
          "base_uri": "https://localhost:8080/"
        },
        "id": "X3Bjcz3crtC_",
        "outputId": "aa8a8246-5db6-435c-9489-8d67823484ee"
      },
      "execution_count": 51,
      "outputs": [
        {
          "output_type": "execute_result",
          "data": {
            "text/plain": [
              "array([0, 0, 0, 0, 0, 0, 0, 0, 0, 0, 0, 0, 0, 0, 0, 0, 0, 0, 0, 0, 0, 0,\n",
              "       0, 0, 0, 0, 0, 0, 0, 0, 0, 0, 0, 0, 0, 0, 0, 0, 0, 0, 0, 0, 0, 0,\n",
              "       0, 0, 0, 0, 0, 0, 1, 1, 1, 1, 1, 1, 1, 1, 1, 1, 1, 1, 1, 1, 1, 1,\n",
              "       1, 1, 1, 1, 1, 1, 1, 1, 1, 1, 1, 1, 1, 1, 1, 1, 1, 1, 1, 1, 1, 1,\n",
              "       1, 1, 1, 1, 1, 1, 1, 1, 1, 1, 1, 1, 2, 2, 2, 2, 2, 2, 2, 2, 2, 2,\n",
              "       2, 2, 2, 2, 2, 2, 2, 2, 2, 2, 2, 2, 2, 2, 2, 2, 2, 2, 2, 2, 2, 2,\n",
              "       2, 2, 2, 2, 2, 2, 2, 2, 2, 2, 2, 2, 2, 2, 2, 2, 2, 2])"
            ]
          },
          "metadata": {},
          "execution_count": 51
        }
      ]
    },
    {
      "cell_type": "code",
      "source": [
        "## what if you want to implement OvR on a model?\n",
        "from sklearn.multiclass import OneVsOneClassifier, OneVsRestClassifier\n",
        "\n",
        "## instance of OnevsRest wrapped around the RF (model)\n",
        "rf_OvR = OneVsRestClassifier(RandomForestClassifier())\n",
        "\n",
        "## fit\n",
        "yhat2 = rf_OvR.fit(X, y).predict(X)"
      ],
      "metadata": {
        "id": "8XBoYcSmrtsv"
      },
      "execution_count": 52,
      "outputs": []
    },
    {
      "cell_type": "code",
      "source": [
        "yhat2"
      ],
      "metadata": {
        "colab": {
          "base_uri": "https://localhost:8080/"
        },
        "id": "EDdfkz4bshpo",
        "outputId": "4637ec63-3a68-46dc-a020-48b2b9e457fc"
      },
      "execution_count": 53,
      "outputs": [
        {
          "output_type": "execute_result",
          "data": {
            "text/plain": [
              "array([0, 0, 0, 0, 0, 0, 0, 0, 0, 0, 0, 0, 0, 0, 0, 0, 0, 0, 0, 0, 0, 0,\n",
              "       0, 0, 0, 0, 0, 0, 0, 0, 0, 0, 0, 0, 0, 0, 0, 0, 0, 0, 0, 0, 0, 0,\n",
              "       0, 0, 0, 0, 0, 0, 1, 1, 1, 1, 1, 1, 1, 1, 1, 1, 1, 1, 1, 1, 1, 1,\n",
              "       1, 1, 1, 1, 1, 1, 1, 1, 1, 1, 1, 1, 1, 1, 1, 1, 1, 1, 1, 1, 1, 1,\n",
              "       1, 1, 1, 1, 1, 1, 1, 1, 1, 1, 1, 1, 2, 2, 2, 2, 2, 2, 2, 2, 2, 2,\n",
              "       2, 2, 2, 2, 2, 2, 2, 2, 2, 2, 2, 2, 2, 2, 2, 2, 2, 2, 2, 2, 2, 2,\n",
              "       2, 2, 2, 2, 2, 2, 2, 2, 2, 2, 2, 2, 2, 2, 2, 2, 2, 2])"
            ]
          },
          "metadata": {},
          "execution_count": 53
        }
      ]
    },
    {
      "cell_type": "code",
      "source": [
        "## One vs One might pick difference between similar classes\n",
        "## One vs Rest might be able to isolate some classes that are difficult to predict\n",
        "## if your classes are imbalanced\n",
        "## y [0.45, 0.20, 0.35]"
      ],
      "metadata": {
        "id": "4n0MJFcUsiro"
      },
      "execution_count": 54,
      "outputs": []
    },
    {
      "cell_type": "code",
      "source": [
        "## metrics\n",
        "## same\n",
        "from sklearn.metrics import ConfusionMatrixDisplay, confusion_matrix\n",
        "\n",
        "ConfusionMatrixDisplay(confusion_matrix(y, yhat1)).plot()"
      ],
      "metadata": {
        "colab": {
          "base_uri": "https://localhost:8080/",
          "height": 472
        },
        "id": "WVt7mypAtSCA",
        "outputId": "64a6c6ba-5ffe-421c-804a-af6b7f7941e1"
      },
      "execution_count": 55,
      "outputs": [
        {
          "output_type": "execute_result",
          "data": {
            "text/plain": [
              "<sklearn.metrics._plot.confusion_matrix.ConfusionMatrixDisplay at 0x7e66f7517610>"
            ]
          },
          "metadata": {},
          "execution_count": 55
        },
        {
          "output_type": "display_data",
          "data": {
            "text/plain": [
              "<Figure size 640x480 with 2 Axes>"
            ],
            "image/png": "[encoded data removed]"
          },
          "metadata": {}
        }
      ]
    },
    {
      "cell_type": "code",
      "source": [
        "from sklearn.metrics import classification_report\n",
        "\n",
        "print(classification_report(y, yhat1))"
      ],
      "metadata": {
        "colab": {
          "base_uri": "https://localhost:8080/"
        },
        "id": "xaslzLMetckA",
        "outputId": "fd631b7f-dfc4-4367-aa17-4dcbecb52e82"
      },
      "execution_count": 57,
      "outputs": [
        {
          "output_type": "stream",
          "name": "stdout",
          "text": [
            "              precision    recall  f1-score   support\n",
            "\n",
            "           0       1.00      1.00      1.00        50\n",
            "           1       1.00      1.00      1.00        50\n",
            "           2       1.00      1.00      1.00        50\n",
            "\n",
            "    accuracy                           1.00       150\n",
            "   macro avg       1.00      1.00      1.00       150\n",
            "weighted avg       1.00      1.00      1.00       150\n",
            "\n"
          ]
        }
      ]
    },
    {
      "cell_type": "code",
      "source": [
        "from tensorflow.keras.import Sequential\n",
        "from tensorflow.keras.layers import Dense, Dropout, Input\n",
        "\n",
        "## y = [\"pos\", \"neg\", \"net\"]   ------ y = [1,2,3,]   ## loss = \"categorical_crossentropy\"\n",
        "## y = onehot encode y = [1,0,0]  [0,1,0]            ## loss = \"sparse_categorical_crossentropy\""
      ],
      "metadata": {
        "id": "-iFHG1gRt6_w"
      },
      "execution_count": null,
      "outputs": []
    }
  ]
}