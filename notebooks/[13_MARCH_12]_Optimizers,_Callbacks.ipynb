{
  "nbformat": 4,
  "nbformat_minor": 0,
  "metadata": {
    "colab": {
      "provenance": []
    },
    "kernelspec": {
      "name": "python3",
      "display_name": "Python 3"
    },
    "language_info": {
      "name": "python"
    }
  },
  "cells": [
    {
      "cell_type": "code",
      "execution_count": 1,
      "metadata": {
        "colab": {
          "base_uri": "https://localhost:8080/",
          "height": 206
        },
        "id": "Ylpa7VyLYIqi",
        "outputId": "4e14e938-e33f-4a6a-d7c1-5baebf05fb5e"
      },
      "outputs": [
        {
          "output_type": "execute_result",
          "data": {
            "text/plain": [
              "   Bedrooms       Area  City_Distance  Age         Price  sold_10\n",
              "0         1  26.184098        1286.68   67  96004.804557        1\n",
              "1         1  34.866901        1855.25   30  92473.722570        1\n",
              "2         1  36.980709         692.09   24  98112.519940        1\n",
              "3         1  17.445723        1399.49   66  92118.326874        1\n",
              "4         1  52.587646          84.65    3  98976.653176        1"
            ],
            "text/html": [
              "\n",
              "  <div id=\"df-070832f2-3ff5-4876-8982-5a81d76fe338\" class=\"colab-df-container\">\n",
              "    <div>\n",
              "<style scoped>\n",
              "    .dataframe tbody tr th:only-of-type {\n",
              "        vertical-align: middle;\n",
              "    }\n",
              "\n",
              "    .dataframe tbody tr th {\n",
              "        vertical-align: top;\n",
              "    }\n",
              "\n",
              "    .dataframe thead th {\n",
              "        text-align: right;\n",
              "    }\n",
              "</style>\n",
              "<table border=\"1\" class=\"dataframe\">\n",
              "  <thead>\n",
              "    <tr style=\"text-align: right;\">\n",
              "      <th></th>\n",
              "      <th>Bedrooms</th>\n",
              "      <th>Area</th>\n",
              "      <th>City_Distance</th>\n",
              "      <th>Age</th>\n",
              "      <th>Price</th>\n",
              "      <th>sold_10</th>\n",
              "    </tr>\n",
              "  </thead>\n",
              "  <tbody>\n",
              "    <tr>\n",
              "      <th>0</th>\n",
              "      <td>1</td>\n",
              "      <td>26.184098</td>\n",
              "      <td>1286.68</td>\n",
              "      <td>67</td>\n",
              "      <td>96004.804557</td>\n",
              "      <td>1</td>\n",
              "    </tr>\n",
              "    <tr>\n",
              "      <th>1</th>\n",
              "      <td>1</td>\n",
              "      <td>34.866901</td>\n",
              "      <td>1855.25</td>\n",
              "      <td>30</td>\n",
              "      <td>92473.722570</td>\n",
              "      <td>1</td>\n",
              "    </tr>\n",
              "    <tr>\n",
              "      <th>2</th>\n",
              "      <td>1</td>\n",
              "      <td>36.980709</td>\n",
              "      <td>692.09</td>\n",
              "      <td>24</td>\n",
              "      <td>98112.519940</td>\n",
              "      <td>1</td>\n",
              "    </tr>\n",
              "    <tr>\n",
              "      <th>3</th>\n",
              "      <td>1</td>\n",
              "      <td>17.445723</td>\n",
              "      <td>1399.49</td>\n",
              "      <td>66</td>\n",
              "      <td>92118.326874</td>\n",
              "      <td>1</td>\n",
              "    </tr>\n",
              "    <tr>\n",
              "      <th>4</th>\n",
              "      <td>1</td>\n",
              "      <td>52.587646</td>\n",
              "      <td>84.65</td>\n",
              "      <td>3</td>\n",
              "      <td>98976.653176</td>\n",
              "      <td>1</td>\n",
              "    </tr>\n",
              "  </tbody>\n",
              "</table>\n",
              "</div>\n",
              "    <div class=\"colab-df-buttons\">\n",
              "\n",
              "  <div class=\"colab-df-container\">\n",
              "    <button class=\"colab-df-convert\" onclick=\"convertToInteractive('df-070832f2-3ff5-4876-8982-5a81d76fe338')\"\n",
              "            title=\"Convert this dataframe to an interactive table.\"\n",
              "            style=\"display:none;\">\n",
              "\n",
              "  <svg xmlns=\"http://www.w3.org/2000/svg\" height=\"24px\" viewBox=\"0 -960 960 960\">\n",
              "    <path d=\"M120-120v-720h720v720H120Zm60-500h600v-160H180v160Zm220 220h160v-160H400v160Zm0 220h160v-160H400v160ZM180-400h160v-160H180v160Zm440 0h160v-160H620v160ZM180-180h160v-160H180v160Zm440 0h160v-160H620v160Z\"/>\n",
              "  </svg>\n",
              "    </button>\n",
              "\n",
              "  <style>\n",
              "    .colab-df-container {\n",
              "      display:flex;\n",
              "      gap: 12px;\n",
              "    }\n",
              "\n",
              "    .colab-df-convert {\n",
              "      background-color: #E8F0FE;\n",
              "      border: none;\n",
              "      border-radius: 50%;\n",
              "      cursor: pointer;\n",
              "      display: none;\n",
              "      fill: #1967D2;\n",
              "      height: 32px;\n",
              "      padding: 0 0 0 0;\n",
              "      width: 32px;\n",
              "    }\n",
              "\n",
              "    .colab-df-convert:hover {\n",
              "      background-color: #E2EBFA;\n",
              "      box-shadow: 0px 1px 2px rgba(60, 64, 67, 0.3), 0px 1px 3px 1px rgba(60, 64, 67, 0.15);\n",
              "      fill: #174EA6;\n",
              "    }\n",
              "\n",
              "    .colab-df-buttons div {\n",
              "      margin-bottom: 4px;\n",
              "    }\n",
              "\n",
              "    [theme=dark] .colab-df-convert {\n",
              "      background-color: #3B4455;\n",
              "      fill: #D2E3FC;\n",
              "    }\n",
              "\n",
              "    [theme=dark] .colab-df-convert:hover {\n",
              "      background-color: #434B5C;\n",
              "      box-shadow: 0px 1px 3px 1px rgba(0, 0, 0, 0.15);\n",
              "      filter: drop-shadow(0px 1px 2px rgba(0, 0, 0, 0.3));\n",
              "      fill: #FFFFFF;\n",
              "    }\n",
              "  </style>\n",
              "\n",
              "    <script>\n",
              "      const buttonEl =\n",
              "        document.querySelector('#df-070832f2-3ff5-4876-8982-5a81d76fe338 button.colab-df-convert');\n",
              "      buttonEl.style.display =\n",
              "        google.colab.kernel.accessAllowed ? 'block' : 'none';\n",
              "\n",
              "      async function convertToInteractive(key) {\n",
              "        const element = document.querySelector('#df-070832f2-3ff5-4876-8982-5a81d76fe338');\n",
              "        const dataTable =\n",
              "          await google.colab.kernel.invokeFunction('convertToInteractive',\n",
              "                                                    [key], {});\n",
              "        if (!dataTable) return;\n",
              "\n",
              "        const docLinkHtml = 'Like what you see? Visit the ' +\n",
              "          '<a target=\"_blank\" href=https://colab.research.google.com/notebooks/data_table.ipynb>data table notebook</a>'\n",
              "          + ' to learn more about interactive tables.';\n",
              "        element.innerHTML = '';\n",
              "        dataTable['output_type'] = 'display_data';\n",
              "        await google.colab.output.renderOutput(dataTable, element);\n",
              "        const docLink = document.createElement('div');\n",
              "        docLink.innerHTML = docLinkHtml;\n",
              "        element.appendChild(docLink);\n",
              "      }\n",
              "    </script>\n",
              "  </div>\n",
              "\n",
              "\n",
              "<div id=\"df-25194ffe-1112-4289-870b-6a573a537cbc\">\n",
              "  <button class=\"colab-df-quickchart\" onclick=\"quickchart('df-25194ffe-1112-4289-870b-6a573a537cbc')\"\n",
              "            title=\"Suggest charts\"\n",
              "            style=\"display:none;\">\n",
              "\n",
              "<svg xmlns=\"http://www.w3.org/2000/svg\" height=\"24px\"viewBox=\"0 0 24 24\"\n",
              "     width=\"24px\">\n",
              "    <g>\n",
              "        <path d=\"M19 3H5c-1.1 0-2 .9-2 2v14c0 1.1.9 2 2 2h14c1.1 0 2-.9 2-2V5c0-1.1-.9-2-2-2zM9 17H7v-7h2v7zm4 0h-2V7h2v10zm4 0h-2v-4h2v4z\"/>\n",
              "    </g>\n",
              "</svg>\n",
              "  </button>\n",
              "\n",
              "<style>\n",
              "  .colab-df-quickchart {\n",
              "      --bg-color: #E8F0FE;\n",
              "      --fill-color: #1967D2;\n",
              "      --hover-bg-color: #E2EBFA;\n",
              "      --hover-fill-color: #174EA6;\n",
              "      --disabled-fill-color: #AAA;\n",
              "      --disabled-bg-color: #DDD;\n",
              "  }\n",
              "\n",
              "  [theme=dark] .colab-df-quickchart {\n",
              "      --bg-color: #3B4455;\n",
              "      --fill-color: #D2E3FC;\n",
              "      --hover-bg-color: #434B5C;\n",
              "      --hover-fill-color: #FFFFFF;\n",
              "      --disabled-bg-color: #3B4455;\n",
              "      --disabled-fill-color: #666;\n",
              "  }\n",
              "\n",
              "  .colab-df-quickchart {\n",
              "    background-color: var(--bg-color);\n",
              "    border: none;\n",
              "    border-radius: 50%;\n",
              "    cursor: pointer;\n",
              "    display: none;\n",
              "    fill: var(--fill-color);\n",
              "    height: 32px;\n",
              "    padding: 0;\n",
              "    width: 32px;\n",
              "  }\n",
              "\n",
              "  .colab-df-quickchart:hover {\n",
              "    background-color: var(--hover-bg-color);\n",
              "    box-shadow: 0 1px 2px rgba(60, 64, 67, 0.3), 0 1px 3px 1px rgba(60, 64, 67, 0.15);\n",
              "    fill: var(--button-hover-fill-color);\n",
              "  }\n",
              "\n",
              "  .colab-df-quickchart-complete:disabled,\n",
              "  .colab-df-quickchart-complete:disabled:hover {\n",
              "    background-color: var(--disabled-bg-color);\n",
              "    fill: var(--disabled-fill-color);\n",
              "    box-shadow: none;\n",
              "  }\n",
              "\n",
              "  .colab-df-spinner {\n",
              "    border: 2px solid var(--fill-color);\n",
              "    border-color: transparent;\n",
              "    border-bottom-color: var(--fill-color);\n",
              "    animation:\n",
              "      spin 1s steps(1) infinite;\n",
              "  }\n",
              "\n",
              "  @keyframes spin {\n",
              "    0% {\n",
              "      border-color: transparent;\n",
              "      border-bottom-color: var(--fill-color);\n",
              "      border-left-color: var(--fill-color);\n",
              "    }\n",
              "    20% {\n",
              "      border-color: transparent;\n",
              "      border-left-color: var(--fill-color);\n",
              "      border-top-color: var(--fill-color);\n",
              "    }\n",
              "    30% {\n",
              "      border-color: transparent;\n",
              "      border-left-color: var(--fill-color);\n",
              "      border-top-color: var(--fill-color);\n",
              "      border-right-color: var(--fill-color);\n",
              "    }\n",
              "    40% {\n",
              "      border-color: transparent;\n",
              "      border-right-color: var(--fill-color);\n",
              "      border-top-color: var(--fill-color);\n",
              "    }\n",
              "    60% {\n",
              "      border-color: transparent;\n",
              "      border-right-color: var(--fill-color);\n",
              "    }\n",
              "    80% {\n",
              "      border-color: transparent;\n",
              "      border-right-color: var(--fill-color);\n",
              "      border-bottom-color: var(--fill-color);\n",
              "    }\n",
              "    90% {\n",
              "      border-color: transparent;\n",
              "      border-bottom-color: var(--fill-color);\n",
              "    }\n",
              "  }\n",
              "</style>\n",
              "\n",
              "  <script>\n",
              "    async function quickchart(key) {\n",
              "      const quickchartButtonEl =\n",
              "        document.querySelector('#' + key + ' button');\n",
              "      quickchartButtonEl.disabled = true;  // To prevent multiple clicks.\n",
              "      quickchartButtonEl.classList.add('colab-df-spinner');\n",
              "      try {\n",
              "        const charts = await google.colab.kernel.invokeFunction(\n",
              "            'suggestCharts', [key], {});\n",
              "      } catch (error) {\n",
              "        console.error('Error during call to suggestCharts:', error);\n",
              "      }\n",
              "      quickchartButtonEl.classList.remove('colab-df-spinner');\n",
              "      quickchartButtonEl.classList.add('colab-df-quickchart-complete');\n",
              "    }\n",
              "    (() => {\n",
              "      let quickchartButtonEl =\n",
              "        document.querySelector('#df-25194ffe-1112-4289-870b-6a573a537cbc button');\n",
              "      quickchartButtonEl.style.display =\n",
              "        google.colab.kernel.accessAllowed ? 'block' : 'none';\n",
              "    })();\n",
              "  </script>\n",
              "</div>\n",
              "\n",
              "    </div>\n",
              "  </div>\n"
            ],
            "application/vnd.google.colaboratory.intrinsic+json": {
              "type": "dataframe",
              "variable_name": "df",
              "summary": "{\n  \"name\": \"df\",\n  \"rows\": 4308,\n  \"fields\": [\n    {\n      \"column\": \"Bedrooms\",\n      \"properties\": {\n        \"dtype\": \"number\",\n        \"std\": 2,\n        \"min\": 1,\n        \"max\": 17,\n        \"num_unique_values\": 15,\n        \"samples\": [\n          10,\n          12,\n          1\n        ],\n        \"semantic_type\": \"\",\n        \"description\": \"\"\n      }\n    },\n    {\n      \"column\": \"Area\",\n      \"properties\": {\n        \"dtype\": \"number\",\n        \"std\": 95.46980163381151,\n        \"min\": 10.244518092962434,\n        \"max\": 750.9716038,\n        \"num_unique_values\": 4308,\n        \"samples\": [\n          23.67054572068581,\n          34.81538216061246,\n          164.49405165913183\n        ],\n        \"semantic_type\": \"\",\n        \"description\": \"\"\n      }\n    },\n    {\n      \"column\": \"City_Distance\",\n      \"properties\": {\n        \"dtype\": \"number\",\n        \"std\": 555.3258301312046,\n        \"min\": 11.8,\n        \"max\": 1999.84,\n        \"num_unique_values\": 4247,\n        \"samples\": [\n          846.45,\n          1546.05,\n          530.34\n        ],\n        \"semantic_type\": \"\",\n        \"description\": \"\"\n      }\n    },\n    {\n      \"column\": \"Age\",\n      \"properties\": {\n        \"dtype\": \"number\",\n        \"std\": 27,\n        \"min\": 0,\n        \"max\": 97,\n        \"num_unique_values\": 98,\n        \"samples\": [\n          69,\n          8,\n          28\n        ],\n        \"semantic_type\": \"\",\n        \"description\": \"\"\n      }\n    },\n    {\n      \"column\": \"Price\",\n      \"properties\": {\n        \"dtype\": \"number\",\n        \"std\": 3919.8239880904853,\n        \"min\": 86113.59297392477,\n        \"max\": 118134.77118994546,\n        \"num_unique_values\": 4308,\n        \"samples\": [\n          90429.79122128176,\n          91026.05951505562,\n          96813.63951889094\n        ],\n        \"semantic_type\": \"\",\n        \"description\": \"\"\n      }\n    },\n    {\n      \"column\": \"sold_10\",\n      \"properties\": {\n        \"dtype\": \"number\",\n        \"std\": 0,\n        \"min\": 0,\n        \"max\": 1,\n        \"num_unique_values\": 2,\n        \"samples\": [\n          0,\n          1\n        ],\n        \"semantic_type\": \"\",\n        \"description\": \"\"\n      }\n    }\n  ]\n}"
            }
          },
          "metadata": {},
          "execution_count": 1
        }
      ],
      "source": [
        "import numpy as np\n",
        "import pandas as pd\n",
        "\n",
        "df = pd.read_csv('https://raw.githubusercontent.com/martinwg/ISA630/refs/heads/master/data/housing_data_sold.csv')\n",
        "df.head()"
      ]
    },
    {
      "cell_type": "code",
      "source": [
        "X = df.drop(['Price', 'sold_10'], axis=1)\n",
        "y = df['Price']"
      ],
      "metadata": {
        "id": "j5rmnMsEYTHD"
      },
      "execution_count": 3,
      "outputs": []
    },
    {
      "cell_type": "code",
      "source": [
        "from sklearn.model_selection import train_test_split\n",
        "X_train, X_test, y_train, y_test = train_test_split(X, y, test_size=0.3, random_state=630)"
      ],
      "metadata": {
        "id": "J_SHY_VyYiub"
      },
      "execution_count": 4,
      "outputs": []
    },
    {
      "cell_type": "code",
      "source": [
        "from tensorflow.keras.models import Sequential\n",
        "from tensorflow.keras.layers import Dense, Input, Dropout\n",
        "from tensorflow.keras.initializers import GlorotUniform\n",
        "from tensorflow.keras.regularizers import l1\n",
        "## dropout performs regularization by zeroing out weights randomly\n",
        "## impose an L1 norm or L2 norm by layer\n",
        "\n",
        "model = Sequential()\n",
        "model.add(Input(shape = (X_train.shape[1],)))                                               ## input\n",
        "model.add(Dense(20, activation = \"relu\", kernel_regularizer=l1()))                                                  ## hidden 1\n",
        "model.add(Dropout(0.2))                                                                     ## regularization\n",
        "model.add(Dense(1,\n",
        "                activation = \"linear\",\n",
        "                kernel_regularizer=l1(),\n",
        "                kernel_initializer = GlorotUniform(seed = 630)))  ## output"
      ],
      "metadata": {
        "id": "2H_aCsH2Ypf7"
      },
      "execution_count": 45,
      "outputs": []
    },
    {
      "cell_type": "code",
      "source": [
        "## w1, b1 (input to hidden 1)\n",
        "## w2, b2 (hidden to output)\n",
        "w1, b1, w2, b2 = model.get_weights()"
      ],
      "metadata": {
        "id": "Et4zAvjjZinr"
      },
      "execution_count": 30,
      "outputs": []
    },
    {
      "cell_type": "code",
      "source": [
        "w1"
      ],
      "metadata": {
        "colab": {
          "base_uri": "https://localhost:8080/"
        },
        "id": "v9W7CxKKgRvg",
        "outputId": "e3ac5d6e-3806-489d-b79a-21a0d73b3b7a"
      },
      "execution_count": 31,
      "outputs": [
        {
          "output_type": "execute_result",
          "data": {
            "text/plain": [
              "array([[ 0.35203397, -0.28223968,  0.13594532, -0.15798128, -0.2676487 ,\n",
              "         0.23714888,  0.3536389 , -0.4222051 , -0.21401393, -0.12762547,\n",
              "        -0.04805481,  0.39584184,  0.36670995,  0.10973895,  0.42062104,\n",
              "        -0.478554  , -0.42771125, -0.07686484, -0.31525552,  0.45085955],\n",
              "       [-0.3729509 , -0.36557925,  0.14388323, -0.3255087 , -0.45975673,\n",
              "         0.24340093, -0.38886797,  0.13532364,  0.09292865,  0.44374692,\n",
              "         0.4937451 , -0.25306904, -0.29064488, -0.00293124,  0.0758723 ,\n",
              "        -0.29669726, -0.49061763, -0.13745487, -0.38328135,  0.09758615],\n",
              "       [-0.13519347, -0.27920008, -0.20898175, -0.15365314, -0.32457817,\n",
              "        -0.2097795 ,  0.4625132 ,  0.317711  , -0.06564021,  0.09093654,\n",
              "         0.00913656,  0.09517777,  0.11343229,  0.31178498,  0.21265435,\n",
              "        -0.2866254 , -0.23284829, -0.46247554,  0.06330073,  0.02393472],\n",
              "       [-0.08528614,  0.05400336, -0.418903  ,  0.46917605, -0.17546415,\n",
              "         0.2634436 , -0.03207195, -0.10563886, -0.43995512,  0.23654163,\n",
              "        -0.44860125, -0.28406215,  0.34939408, -0.48912954,  0.43115926,\n",
              "        -0.36776376, -0.1386435 ,  0.12604296,  0.17613149, -0.21197307]],\n",
              "      dtype=float32)"
            ]
          },
          "metadata": {},
          "execution_count": 31
        }
      ]
    },
    {
      "cell_type": "code",
      "source": [
        "b1"
      ],
      "metadata": {
        "colab": {
          "base_uri": "https://localhost:8080/"
        },
        "id": "xu0vbzPjghP_",
        "outputId": "debab5dd-936b-4a22-a175-ef73ca61cf07"
      },
      "execution_count": 32,
      "outputs": [
        {
          "output_type": "execute_result",
          "data": {
            "text/plain": [
              "array([0., 0., 0., 0., 0., 0., 0., 0., 0., 0., 0., 0., 0., 0., 0., 0., 0.,\n",
              "       0., 0., 0.], dtype=float32)"
            ]
          },
          "metadata": {},
          "execution_count": 32
        }
      ]
    },
    {
      "cell_type": "code",
      "source": [
        "w2"
      ],
      "metadata": {
        "colab": {
          "base_uri": "https://localhost:8080/"
        },
        "id": "Mhg_fupBgkmO",
        "outputId": "b5c4e1f1-6b69-49a6-e886-f5a1c4a22215"
      },
      "execution_count": 33,
      "outputs": [
        {
          "output_type": "execute_result",
          "data": {
            "text/plain": [
              "array([[-0.10402411],\n",
              "       [-0.17933178],\n",
              "       [ 0.43566376],\n",
              "       [-0.30346125],\n",
              "       [ 0.29060102],\n",
              "       [-0.46766013],\n",
              "       [-0.20736516],\n",
              "       [ 0.3760358 ],\n",
              "       [-0.39851725],\n",
              "       [-0.15913686],\n",
              "       [-0.21035594],\n",
              "       [-0.1081259 ],\n",
              "       [ 0.23224795],\n",
              "       [ 0.16697979],\n",
              "       [-0.2776198 ],\n",
              "       [-0.01721281],\n",
              "       [ 0.2604028 ],\n",
              "       [ 0.4268152 ],\n",
              "       [-0.5273807 ],\n",
              "       [ 0.2714367 ]], dtype=float32)"
            ]
          },
          "metadata": {},
          "execution_count": 33
        }
      ]
    },
    {
      "cell_type": "code",
      "source": [
        "b2"
      ],
      "metadata": {
        "colab": {
          "base_uri": "https://localhost:8080/"
        },
        "id": "OK1rLsFwgnPO",
        "outputId": "ca12ca40-d738-4468-8f83-d39a6f1c4422"
      },
      "execution_count": 34,
      "outputs": [
        {
          "output_type": "execute_result",
          "data": {
            "text/plain": [
              "array([0.], dtype=float32)"
            ]
          },
          "metadata": {},
          "execution_count": 34
        }
      ]
    },
    {
      "cell_type": "code",
      "source": [
        "import tensorflow as tf"
      ],
      "metadata": {
        "id": "y7S6XjHObdlS"
      },
      "execution_count": 35,
      "outputs": []
    },
    {
      "cell_type": "code",
      "source": [
        "## compilation\n",
        "## cost (loss function)\n",
        "## metrics (additional loss functions (RMSE, MAE), gain functions (R2, explained variance))\n",
        "## loss MSE (squared errors) vs MAE (absolute errors) needs to be differentiable (compute the gradient)\n",
        "## callback is special function (allow to stop, retrieve the epoch with the best loss)\n",
        "from tensorflow.keras.optimizers import Adam\n",
        "from tensorflow.keras.callbacks import EarlyStopping\n",
        "\n",
        "## create an instance of early stopping\n",
        "early_stop = EarlyStopping(monitor = 'val_loss', patience = 10, restore_best_weights = True)\n",
        "\n",
        "model.compile(optimizer = Adam(learning_rate = 0.3), loss = 'mse',metrics = ['mean_absolute_error', \"r2_score\"])"
      ],
      "metadata": {
        "id": "8hOlmvxxZsyK"
      },
      "execution_count": 36,
      "outputs": []
    },
    {
      "cell_type": "code",
      "source": [
        "X_train.shape\n",
        "3015 / 10"
      ],
      "metadata": {
        "colab": {
          "base_uri": "https://localhost:8080/"
        },
        "id": "GzO0RPiaiXm4",
        "outputId": "ee36defe-7297-44c4-8dce-d6e80a53ca60"
      },
      "execution_count": 40,
      "outputs": [
        {
          "output_type": "execute_result",
          "data": {
            "text/plain": [
              "301.5"
            ]
          },
          "metadata": {},
          "execution_count": 40
        }
      ]
    },
    {
      "cell_type": "code",
      "source": [
        "## fit\n",
        "## number of epochs (full passes on the data)\n",
        "## validation learning (validation_split or validation_data)\n",
        "## add early stopping to the fit function\n",
        "\n",
        "history = model.fit(X_train, y_train, epochs = 100, validation_data = (X_test, y_test), callbacks=[early_stop], batch_size = 10)"
      ],
      "metadata": {
        "colab": {
          "base_uri": "https://localhost:8080/"
        },
        "id": "UKHVMEuka0Tj",
        "outputId": "8c57c3a0-fa2d-41ff-9157-a96b0626af73"
      },
      "execution_count": 43,
      "outputs": [
        {
          "output_type": "stream",
          "name": "stdout",
          "text": [
            "Epoch 1/100\n",
            "\u001b[1m302/302\u001b[0m \u001b[32m━━━━━━━━━━━━━━━━━━━━\u001b[0m\u001b[37m\u001b[0m \u001b[1m1s\u001b[0m 3ms/step - loss: 28656184.0000 - mean_absolute_error: 4114.6304 - r2_score: -0.7672 - val_loss: 7819409.5000 - val_mean_absolute_error: 2050.6873 - val_r2_score: 0.5035\n",
            "Epoch 2/100\n",
            "\u001b[1m302/302\u001b[0m \u001b[32m━━━━━━━━━━━━━━━━━━━━\u001b[0m\u001b[37m\u001b[0m \u001b[1m1s\u001b[0m 3ms/step - loss: 49156820.0000 - mean_absolute_error: 4571.4238 - r2_score: -2.3008 - val_loss: 14380837.0000 - val_mean_absolute_error: 3043.9165 - val_r2_score: 0.0870\n",
            "Epoch 3/100\n",
            "\u001b[1m302/302\u001b[0m \u001b[32m━━━━━━━━━━━━━━━━━━━━\u001b[0m\u001b[37m\u001b[0m \u001b[1m1s\u001b[0m 3ms/step - loss: 16407433.0000 - mean_absolute_error: 3063.9868 - r2_score: -0.0579 - val_loss: 8128463.5000 - val_mean_absolute_error: 2204.2170 - val_r2_score: 0.4839\n",
            "Epoch 4/100\n",
            "\u001b[1m302/302\u001b[0m \u001b[32m━━━━━━━━━━━━━━━━━━━━\u001b[0m\u001b[37m\u001b[0m \u001b[1m1s\u001b[0m 3ms/step - loss: 25070228.0000 - mean_absolute_error: 3661.2820 - r2_score: -0.6782 - val_loss: 7982420.5000 - val_mean_absolute_error: 2200.0793 - val_r2_score: 0.4932\n",
            "Epoch 5/100\n",
            "\u001b[1m302/302\u001b[0m \u001b[32m━━━━━━━━━━━━━━━━━━━━\u001b[0m\u001b[37m\u001b[0m \u001b[1m1s\u001b[0m 3ms/step - loss: 16410841.0000 - mean_absolute_error: 3077.7910 - r2_score: -0.0697 - val_loss: 11956682.0000 - val_mean_absolute_error: 2643.3870 - val_r2_score: 0.2409\n",
            "Epoch 6/100\n",
            "\u001b[1m302/302\u001b[0m \u001b[32m━━━━━━━━━━━━━━━━━━━━\u001b[0m\u001b[37m\u001b[0m \u001b[1m2s\u001b[0m 5ms/step - loss: 15786241.0000 - mean_absolute_error: 3047.4421 - r2_score: -0.0410 - val_loss: 10134982.0000 - val_mean_absolute_error: 2351.4592 - val_r2_score: 0.3565\n",
            "Epoch 7/100\n",
            "\u001b[1m302/302\u001b[0m \u001b[32m━━━━━━━━━━━━━━━━━━━━\u001b[0m\u001b[37m\u001b[0m \u001b[1m1s\u001b[0m 3ms/step - loss: 35717720.0000 - mean_absolute_error: 4369.9839 - r2_score: -1.3681 - val_loss: 49455696.0000 - val_mean_absolute_error: 6281.8447 - val_r2_score: -2.1399\n",
            "Epoch 8/100\n",
            "\u001b[1m302/302\u001b[0m \u001b[32m━━━━━━━━━━━━━━━━━━━━\u001b[0m\u001b[37m\u001b[0m \u001b[1m1s\u001b[0m 3ms/step - loss: 23123440.0000 - mean_absolute_error: 3569.7246 - r2_score: -0.6007 - val_loss: 95466056.0000 - val_mean_absolute_error: 8382.2080 - val_r2_score: -5.0611\n",
            "Epoch 9/100\n",
            "\u001b[1m302/302\u001b[0m \u001b[32m━━━━━━━━━━━━━━━━━━━━\u001b[0m\u001b[37m\u001b[0m \u001b[1m1s\u001b[0m 3ms/step - loss: 23663336.0000 - mean_absolute_error: 3672.9573 - r2_score: -0.5841 - val_loss: 29278896.0000 - val_mean_absolute_error: 4713.2930 - val_r2_score: -0.8589\n",
            "Epoch 10/100\n",
            "\u001b[1m302/302\u001b[0m \u001b[32m━━━━━━━━━━━━━━━━━━━━\u001b[0m\u001b[37m\u001b[0m \u001b[1m1s\u001b[0m 3ms/step - loss: 25697540.0000 - mean_absolute_error: 3934.0168 - r2_score: -0.7184 - val_loss: 19712140.0000 - val_mean_absolute_error: 3758.6370 - val_r2_score: -0.2515\n",
            "Epoch 11/100\n",
            "\u001b[1m302/302\u001b[0m \u001b[32m━━━━━━━━━━━━━━━━━━━━\u001b[0m\u001b[37m\u001b[0m \u001b[1m1s\u001b[0m 3ms/step - loss: 26579984.0000 - mean_absolute_error: 3873.1665 - r2_score: -0.7011 - val_loss: 6827858.0000 - val_mean_absolute_error: 1937.5928 - val_r2_score: 0.5665\n",
            "Epoch 12/100\n",
            "\u001b[1m302/302\u001b[0m \u001b[32m━━━━━━━━━━━━━━━━━━━━\u001b[0m\u001b[37m\u001b[0m \u001b[1m1s\u001b[0m 3ms/step - loss: 16549423.0000 - mean_absolute_error: 3022.2727 - r2_score: -0.1101 - val_loss: 9939720.0000 - val_mean_absolute_error: 2359.5112 - val_r2_score: 0.3689\n",
            "Epoch 13/100\n",
            "\u001b[1m302/302\u001b[0m \u001b[32m━━━━━━━━━━━━━━━━━━━━\u001b[0m\u001b[37m\u001b[0m \u001b[1m1s\u001b[0m 3ms/step - loss: 15325872.0000 - mean_absolute_error: 3068.5542 - r2_score: -0.0412 - val_loss: 10396400.0000 - val_mean_absolute_error: 2502.9722 - val_r2_score: 0.3399\n",
            "Epoch 14/100\n",
            "\u001b[1m302/302\u001b[0m \u001b[32m━━━━━━━━━━━━━━━━━━━━\u001b[0m\u001b[37m\u001b[0m \u001b[1m1s\u001b[0m 3ms/step - loss: 14709039.0000 - mean_absolute_error: 2877.4292 - r2_score: 0.0203 - val_loss: 36089000.0000 - val_mean_absolute_error: 5211.2070 - val_r2_score: -1.2913\n",
            "Epoch 15/100\n",
            "\u001b[1m302/302\u001b[0m \u001b[32m━━━━━━━━━━━━━━━━━━━━\u001b[0m\u001b[37m\u001b[0m \u001b[1m1s\u001b[0m 3ms/step - loss: 40412116.0000 - mean_absolute_error: 4555.5723 - r2_score: -1.5893 - val_loss: 54396028.0000 - val_mean_absolute_error: 6726.8652 - val_r2_score: -2.4536\n",
            "Epoch 16/100\n",
            "\u001b[1m302/302\u001b[0m \u001b[32m━━━━━━━━━━━━━━━━━━━━\u001b[0m\u001b[37m\u001b[0m \u001b[1m2s\u001b[0m 5ms/step - loss: 23466784.0000 - mean_absolute_error: 3604.5254 - r2_score: -0.4642 - val_loss: 7077780.5000 - val_mean_absolute_error: 1946.4725 - val_r2_score: 0.5506\n",
            "Epoch 17/100\n",
            "\u001b[1m302/302\u001b[0m \u001b[32m━━━━━━━━━━━━━━━━━━━━\u001b[0m\u001b[37m\u001b[0m \u001b[1m2s\u001b[0m 3ms/step - loss: 35240204.0000 - mean_absolute_error: 4410.0132 - r2_score: -1.2385 - val_loss: 95436448.0000 - val_mean_absolute_error: 9001.2100 - val_r2_score: -5.0593\n",
            "Epoch 18/100\n",
            "\u001b[1m302/302\u001b[0m \u001b[32m━━━━━━━━━━━━━━━━━━━━\u001b[0m\u001b[37m\u001b[0m \u001b[1m1s\u001b[0m 3ms/step - loss: 45278324.0000 - mean_absolute_error: 5012.1323 - r2_score: -2.2224 - val_loss: 18535420.0000 - val_mean_absolute_error: 3477.0127 - val_r2_score: -0.1768\n",
            "Epoch 19/100\n",
            "\u001b[1m302/302\u001b[0m \u001b[32m━━━━━━━━━━━━━━━━━━━━\u001b[0m\u001b[37m\u001b[0m \u001b[1m1s\u001b[0m 3ms/step - loss: 22613472.0000 - mean_absolute_error: 3660.9473 - r2_score: -0.6102 - val_loss: 7025713.0000 - val_mean_absolute_error: 1920.2162 - val_r2_score: 0.5539\n",
            "Epoch 20/100\n",
            "\u001b[1m302/302\u001b[0m \u001b[32m━━━━━━━━━━━━━━━━━━━━\u001b[0m\u001b[37m\u001b[0m \u001b[1m1s\u001b[0m 3ms/step - loss: 16465142.0000 - mean_absolute_error: 3034.0222 - r2_score: -0.1118 - val_loss: 45048012.0000 - val_mean_absolute_error: 6114.6733 - val_r2_score: -1.8601\n",
            "Epoch 21/100\n",
            "\u001b[1m302/302\u001b[0m \u001b[32m━━━━━━━━━━━━━━━━━━━━\u001b[0m\u001b[37m\u001b[0m \u001b[1m1s\u001b[0m 3ms/step - loss: 31620256.0000 - mean_absolute_error: 4419.3252 - r2_score: -1.1803 - val_loss: 26271930.0000 - val_mean_absolute_error: 4413.0396 - val_r2_score: -0.6680\n"
          ]
        }
      ]
    },
    {
      "cell_type": "code",
      "source": [
        "import matplotlib.pyplot as plt\n",
        "plt.plot(history.history['loss'], label = \"training cost\")\n",
        "plt.plot(history.history['val_loss'], label = \"validation cost\")\n",
        "plt.legend()\n",
        "plt.grid()\n",
        "plt.show()"
      ],
      "metadata": {
        "colab": {
          "base_uri": "https://localhost:8080/",
          "height": 445
        },
        "id": "gYbk8DXKcKTq",
        "outputId": "aa3cf45f-35dd-4c7c-fb08-925909f1ef55"
      },
      "execution_count": 42,
      "outputs": [
        {
          "output_type": "display_data",
          "data": {
            "text/plain": [
              "<Figure size 640x480 with 1 Axes>"
            ],
            "image/png": "[encoded data removed]"
          },
          "metadata": {}
        }
      ]
    },
    {
      "cell_type": "code",
      "source": [
        "## learning too slow?\n",
        "## learning rate is too low\n",
        "## what if after certain epochs metrics are not good?\n",
        "## get a deeper model (hidden layers)\n",
        "## run for more epochs"
      ],
      "metadata": {
        "id": "kIlHKiGSbouo"
      },
      "execution_count": 18,
      "outputs": []
    }
  ]
}