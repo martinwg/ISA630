{
  "nbformat": 4,
  "nbformat_minor": 0,
  "metadata": {
    "colab": {
      "provenance": []
    },
    "kernelspec": {
      "name": "python3",
      "display_name": "Python 3"
    },
    "language_info": {
      "name": "python"
    }
  },
  "cells": [
    {
      "cell_type": "markdown",
      "source": [
        "# **Activation Functions**"
      ],
      "metadata": {
        "id": "01sm0g13cAoh"
      }
    },
    {
      "cell_type": "markdown",
      "source": [
        "## **The linear activation function**"
      ],
      "metadata": {
        "id": "jhOR9s3nPPGZ"
      }
    },
    {
      "cell_type": "code",
      "execution_count": null,
      "metadata": {
        "id": "9hx7rFmwOQGR"
      },
      "outputs": [],
      "source": [
        "## the input is the output\n",
        "def linear(z, m):\n",
        "  return m*z"
      ]
    },
    {
      "cell_type": "code",
      "source": [
        "## m is slope or multiplier\n",
        "## m = 1\n",
        "x1 = 2\n",
        "x2 = 5\n",
        "w1 = 0.5\n",
        "w2 = -1.5\n",
        "b = 10\n",
        "\n",
        "## the sum function\n",
        "z = b + w1*x1 + w2*x2\n",
        "\n",
        "## activation\n",
        "linear(z, 1)"
      ],
      "metadata": {
        "colab": {
          "base_uri": "https://localhost:8080/"
        },
        "id": "Jr-bwayDPvdo",
        "outputId": "f1d19262-3e9a-41fb-cce1-4f8795f94503"
      },
      "execution_count": null,
      "outputs": [
        {
          "output_type": "execute_result",
          "data": {
            "text/plain": [
              "3.5"
            ]
          },
          "metadata": {},
          "execution_count": 5
        }
      ]
    },
    {
      "cell_type": "code",
      "source": [
        "## the derivative has to be efficiently computed\n",
        "## if m = 1\n",
        "## linear_prime = 1\n",
        "## if m = c\n",
        "## linear_prime  = c\n",
        "def linear_prime(z, m):\n",
        "  return m"
      ],
      "metadata": {
        "id": "A3rG6MphQLVM"
      },
      "execution_count": null,
      "outputs": []
    },
    {
      "cell_type": "code",
      "source": [
        "linear_prime(z, 1)"
      ],
      "metadata": {
        "colab": {
          "base_uri": "https://localhost:8080/"
        },
        "id": "xp3WyQlNQLuC",
        "outputId": "f6d2a438-e8ab-4a1a-e973-532ebccf8055"
      },
      "execution_count": null,
      "outputs": [
        {
          "output_type": "execute_result",
          "data": {
            "text/plain": [
              "1"
            ]
          },
          "metadata": {},
          "execution_count": 7
        }
      ]
    },
    {
      "cell_type": "markdown",
      "source": [
        "### **Tensorflow Implementation**\n",
        "\n",
        "We can compute the activation of a vector. The function also computes the derivative on its own."
      ],
      "metadata": {
        "id": "3hSI_HFZRF1R"
      }
    },
    {
      "cell_type": "code",
      "source": [
        "import tensorflow as tf"
      ],
      "metadata": {
        "id": "Yw4gnwN-QyD3"
      },
      "execution_count": null,
      "outputs": []
    },
    {
      "cell_type": "code",
      "source": [
        "z = tf.constant([2, 1.5, -3, 10, 6], dtype = tf.float32)\n",
        "a = tf.keras.activations.linear(z)\n",
        "a.numpy()"
      ],
      "metadata": {
        "colab": {
          "base_uri": "https://localhost:8080/"
        },
        "id": "Dz2bVCWiQ9-P",
        "outputId": "7fa20141-aa8e-40bd-ea87-d52265c3e62b"
      },
      "execution_count": null,
      "outputs": [
        {
          "output_type": "execute_result",
          "data": {
            "text/plain": [
              "array([ 2. ,  1.5, -3. , 10. ,  6. ], dtype=float32)"
            ]
          },
          "metadata": {},
          "execution_count": 12
        }
      ]
    },
    {
      "cell_type": "markdown",
      "source": [
        "## **ReLu**\n",
        "\n",
        "This is a recent activation. It allows very fast computation. It can cut off the signal of a neuron."
      ],
      "metadata": {
        "id": "zerTHrFWSZyS"
      }
    },
    {
      "cell_type": "code",
      "source": [
        "import numpy as np\n",
        "def relu(z):\n",
        "  return np.max((0,z))"
      ],
      "metadata": {
        "id": "MS7BuGHfRgQA"
      },
      "execution_count": null,
      "outputs": []
    },
    {
      "cell_type": "code",
      "source": [
        "z = b + w1*x1 + w2*x2\n",
        "print(z)"
      ],
      "metadata": {
        "colab": {
          "base_uri": "https://localhost:8080/"
        },
        "id": "s6sZPcitSxJZ",
        "outputId": "0909de7f-c56c-49c1-eac4-129086ad72b5"
      },
      "execution_count": null,
      "outputs": [
        {
          "output_type": "stream",
          "name": "stdout",
          "text": [
            "3.5\n"
          ]
        }
      ]
    },
    {
      "cell_type": "code",
      "source": [
        "relu(z)"
      ],
      "metadata": {
        "colab": {
          "base_uri": "https://localhost:8080/"
        },
        "id": "ljwL5OJbS0dI",
        "outputId": "8b0d9cf9-4b65-41ab-d21c-898522512d56"
      },
      "execution_count": null,
      "outputs": [
        {
          "output_type": "execute_result",
          "data": {
            "text/plain": [
              "3.5"
            ]
          },
          "metadata": {},
          "execution_count": 17
        }
      ]
    },
    {
      "cell_type": "code",
      "source": [
        "## negative z\n",
        "z = -10"
      ],
      "metadata": {
        "id": "6nhSlZGTS7Ey"
      },
      "execution_count": null,
      "outputs": []
    },
    {
      "cell_type": "code",
      "source": [
        "relu(z)"
      ],
      "metadata": {
        "colab": {
          "base_uri": "https://localhost:8080/"
        },
        "id": "VoVCG--rTAbw",
        "outputId": "5774e68f-5666-4a43-b2cf-3fe0d49cca46"
      },
      "execution_count": null,
      "outputs": [
        {
          "output_type": "execute_result",
          "data": {
            "text/plain": [
              "0"
            ]
          },
          "metadata": {},
          "execution_count": 19
        }
      ]
    },
    {
      "cell_type": "code",
      "source": [
        "## derivative\n",
        "def relu_prime(z):\n",
        "  return 1 if z > 0 else 0"
      ],
      "metadata": {
        "id": "kQPINL0uTBoI"
      },
      "execution_count": null,
      "outputs": []
    },
    {
      "cell_type": "code",
      "source": [
        "print(f'z is {z}')\n",
        "print(f'the derivative of relu is {relu_prime(z)}')"
      ],
      "metadata": {
        "colab": {
          "base_uri": "https://localhost:8080/"
        },
        "id": "E0tT-1kZTKuH",
        "outputId": "cec05faa-38c3-4680-aff8-98715b06165d"
      },
      "execution_count": null,
      "outputs": [
        {
          "output_type": "stream",
          "name": "stdout",
          "text": [
            "z is -10\n",
            "the derivative of relu is 0\n"
          ]
        }
      ]
    },
    {
      "cell_type": "code",
      "source": [
        "z = 3.5\n",
        "print(f'z is {z}')\n",
        "print(f'the derivative of relu is {relu_prime(z)}')"
      ],
      "metadata": {
        "colab": {
          "base_uri": "https://localhost:8080/"
        },
        "id": "YKxAk1DMTPGY",
        "outputId": "f30297d7-a575-401b-a051-30a3ab72c1ae"
      },
      "execution_count": null,
      "outputs": [
        {
          "output_type": "stream",
          "name": "stdout",
          "text": [
            "z is 3.5\n",
            "the derivative of relu is 1\n"
          ]
        }
      ]
    },
    {
      "cell_type": "markdown",
      "source": [
        "### **Tensorflow implementation**"
      ],
      "metadata": {
        "id": "UKy96GaeTguK"
      }
    },
    {
      "cell_type": "code",
      "source": [
        "z = tf.constant([2, 1.5, -3, 10, 6], dtype = tf.float32)\n",
        "tf.keras.activations.relu(z)"
      ],
      "metadata": {
        "colab": {
          "base_uri": "https://localhost:8080/"
        },
        "id": "JzbeXCw_TcVp",
        "outputId": "bfaab2bb-cd63-4313-e4dc-ba9bd249d169"
      },
      "execution_count": null,
      "outputs": [
        {
          "output_type": "execute_result",
          "data": {
            "text/plain": [
              "<tf.Tensor: shape=(5,), dtype=float32, numpy=array([ 2. ,  1.5,  0. , 10. ,  6. ], dtype=float32)>"
            ]
          },
          "metadata": {},
          "execution_count": 24
        }
      ]
    },
    {
      "cell_type": "markdown",
      "source": [
        "## **Sigmoid - Logistic Activation**\n",
        "\n",
        "Outputs from 0 to 1."
      ],
      "metadata": {
        "id": "plsEut3YUrmS"
      }
    },
    {
      "cell_type": "code",
      "source": [
        "def sigmoid(z):\n",
        "  return 1/(1+np.exp(-z))"
      ],
      "metadata": {
        "id": "xBbXB4QBTtSo"
      },
      "execution_count": null,
      "outputs": []
    },
    {
      "cell_type": "code",
      "source": [
        "## z is large positive value\n",
        "## sigmoid(z) will be close to 1\n",
        "z = -2\n",
        "print(f'The value of z is {z}')\n",
        "print(f'The sigmoid activation is {sigmoid(z)}')"
      ],
      "metadata": {
        "colab": {
          "base_uri": "https://localhost:8080/"
        },
        "id": "Keb2v3NFU_Z5",
        "outputId": "5f263464-a853-4804-8221-d709daeb71e9"
      },
      "execution_count": null,
      "outputs": [
        {
          "output_type": "stream",
          "name": "stdout",
          "text": [
            "The value of z is -2\n",
            "The sigmoid activation is 0.11920292202211755\n"
          ]
        }
      ]
    },
    {
      "cell_type": "code",
      "source": [
        "## the derivative is\n",
        "## a*(1-a)\n",
        "def sigmoid_prime(z):\n",
        "  return sigmoid(z)*(1-sigmoid(z))"
      ],
      "metadata": {
        "id": "GPenl9UPVNEi"
      },
      "execution_count": null,
      "outputs": []
    },
    {
      "cell_type": "code",
      "source": [
        "z = -10\n",
        "print(f'The value of z is {z}')\n",
        "print(f'The sigmoid activation is {sigmoid(z)}')\n",
        "print(f'The derivative is {sigmoid_prime(z)}')"
      ],
      "metadata": {
        "colab": {
          "base_uri": "https://localhost:8080/"
        },
        "id": "tnB0a4V8Vk07",
        "outputId": "9a0d4624-8c62-43b1-ff64-107060fb82ad"
      },
      "execution_count": null,
      "outputs": [
        {
          "output_type": "stream",
          "name": "stdout",
          "text": [
            "The value of z is -10\n",
            "The sigmoid activation is 4.5397868702434395e-05\n",
            "The derivative is 4.5395807735951673e-05\n"
          ]
        }
      ]
    },
    {
      "cell_type": "code",
      "source": [
        "## wnew = wold - step*gradient\n",
        "## if gradient is zero, then new weights = old weights\n",
        "## the vanishing gradient\n",
        "## feed-forward NNs do not work well with images"
      ],
      "metadata": {
        "id": "MoriKb5tVrD6"
      },
      "execution_count": null,
      "outputs": []
    },
    {
      "cell_type": "markdown",
      "source": [
        "## **Tanh Activation**\n",
        "\n",
        "One of the top-performing activation, however, very hard computationally."
      ],
      "metadata": {
        "id": "zwQ2KRiuXLM2"
      }
    },
    {
      "cell_type": "code",
      "source": [
        "def tanh(z):\n",
        "  return (np.exp(z) - np.exp(-z)) / (np.exp(z) + np.exp(-z))"
      ],
      "metadata": {
        "id": "uxjzIbRyWfj9"
      },
      "execution_count": null,
      "outputs": []
    },
    {
      "cell_type": "code",
      "source": [
        "def tanh_prime(z):\n",
        "  return 1 - np.power(tanh(z), 2)"
      ],
      "metadata": {
        "id": "o4DJPxR1XjU3"
      },
      "execution_count": null,
      "outputs": []
    },
    {
      "cell_type": "code",
      "source": [
        "## Example\n",
        "z = -10\n",
        "print(f'The value of z is {z}')\n",
        "print(f'The tanh activation is {tanh(z)}')\n",
        "print(f'The derivative of tanh activation is {tanh_prime(z)}')"
      ],
      "metadata": {
        "colab": {
          "base_uri": "https://localhost:8080/"
        },
        "id": "zf3F60cBXtWH",
        "outputId": "65928671-224c-4018-f4e7-a22ff2a7af2c"
      },
      "execution_count": null,
      "outputs": [
        {
          "output_type": "stream",
          "name": "stdout",
          "text": [
            "The value of z is -10\n",
            "The tanh activation is -0.9999999958776926\n",
            "The derivative of tanh activation is 8.244614768671e-09\n"
          ]
        }
      ]
    },
    {
      "cell_type": "code",
      "source": [
        "## the vanishing gradient is an issue here"
      ],
      "metadata": {
        "id": "epBNrbIEX6Zv"
      },
      "execution_count": null,
      "outputs": []
    },
    {
      "cell_type": "markdown",
      "source": [
        "### **Tensorflow implementation**"
      ],
      "metadata": {
        "id": "O3-TJjkVYdOx"
      }
    },
    {
      "cell_type": "code",
      "source": [
        "z = tf.constant([2, 1.5, -3, 10, 6], dtype = tf.float32)"
      ],
      "metadata": {
        "id": "fdqtZymIYRjH"
      },
      "execution_count": null,
      "outputs": []
    },
    {
      "cell_type": "code",
      "source": [
        "tf.keras.activations.sigmoid(z)"
      ],
      "metadata": {
        "colab": {
          "base_uri": "https://localhost:8080/"
        },
        "id": "TGnQ_BeCYjUo",
        "outputId": "8c1317d5-c3df-47dd-99f4-4ed7f38a56f2"
      },
      "execution_count": null,
      "outputs": [
        {
          "output_type": "execute_result",
          "data": {
            "text/plain": [
              "<tf.Tensor: shape=(5,), dtype=float32, numpy=\n",
              "array([0.8807971 , 0.8175745 , 0.04742587, 0.9999546 , 0.99752736],\n",
              "      dtype=float32)>"
            ]
          },
          "metadata": {},
          "execution_count": 46
        }
      ]
    },
    {
      "cell_type": "code",
      "source": [
        "tf.keras.activations.tanh(z)"
      ],
      "metadata": {
        "colab": {
          "base_uri": "https://localhost:8080/"
        },
        "id": "NJUlgtvAYmjI",
        "outputId": "ca648464-35e5-4666-d2ce-fef4ebd2322b"
      },
      "execution_count": null,
      "outputs": [
        {
          "output_type": "execute_result",
          "data": {
            "text/plain": [
              "<tf.Tensor: shape=(5,), dtype=float32, numpy=\n",
              "array([ 0.9640276 ,  0.9051482 , -0.9950547 ,  1.        ,  0.99998784],\n",
              "      dtype=float32)>"
            ]
          },
          "metadata": {},
          "execution_count": 47
        }
      ]
    },
    {
      "cell_type": "markdown",
      "source": [
        "## **Softmax activation**\n",
        "\n",
        "Used in the output layer of multi-class problems because the probabilities sum to one"
      ],
      "metadata": {
        "id": "Ph4fS0xlZFJa"
      }
    },
    {
      "cell_type": "code",
      "source": [
        "z = np.array([1.4, 4, 2.1, -3])"
      ],
      "metadata": {
        "id": "BouUsPy5YqAg"
      },
      "execution_count": null,
      "outputs": []
    },
    {
      "cell_type": "code",
      "source": [
        "np.exp(1.4) / (np.exp(1.4) + np.exp(4) + np.exp(2.1) + np.exp(-3))"
      ],
      "metadata": {
        "colab": {
          "base_uri": "https://localhost:8080/"
        },
        "id": "RO-R1CkNZZho",
        "outputId": "ea24c72b-2203-4287-d9c5-0587ae7968bb"
      },
      "execution_count": null,
      "outputs": [
        {
          "output_type": "execute_result",
          "data": {
            "text/plain": [
              "0.06064366672741932"
            ]
          },
          "metadata": {},
          "execution_count": 50
        }
      ]
    },
    {
      "cell_type": "markdown",
      "source": [
        "#**Backpropagation**"
      ],
      "metadata": {
        "id": "NaO-71sCa-1q"
      }
    },
    {
      "cell_type": "code",
      "source": [
        "import pandas as pd\n",
        "\n",
        "df = pd.read_csv('https://raw.githubusercontent.com/martinwg/ISA630/master/data/housing_data.csv')\n",
        "df.head()"
      ],
      "metadata": {
        "colab": {
          "base_uri": "https://localhost:8080/",
          "height": 206
        },
        "id": "dNJCDZJBbCyg",
        "outputId": "209ee33e-ff51-4e34-d2c9-5dd5724e8981"
      },
      "execution_count": null,
      "outputs": [
        {
          "output_type": "execute_result",
          "data": {
            "text/plain": [
              "   Bedrooms       Area  City_Distance  Age         Price\n",
              "0         1  26.184098        1286.68   67  96004.804557\n",
              "1         1  34.866901        1855.25   30  92473.722570\n",
              "2         1  36.980709         692.09   24  98112.519940\n",
              "3         1  17.445723        1399.49   66  92118.326874\n",
              "4         1  52.587646          84.65    3  98976.653176"
            ],
            "text/html": [
              "\n",
              "  <div id=\"df-9a5e6dae-0202-4733-90e1-c5f1ff0ab11d\" class=\"colab-df-container\">\n",
              "    <div>\n",
              "<style scoped>\n",
              "    .dataframe tbody tr th:only-of-type {\n",
              "        vertical-align: middle;\n",
              "    }\n",
              "\n",
              "    .dataframe tbody tr th {\n",
              "        vertical-align: top;\n",
              "    }\n",
              "\n",
              "    .dataframe thead th {\n",
              "        text-align: right;\n",
              "    }\n",
              "</style>\n",
              "<table border=\"1\" class=\"dataframe\">\n",
              "  <thead>\n",
              "    <tr style=\"text-align: right;\">\n",
              "      <th></th>\n",
              "      <th>Bedrooms</th>\n",
              "      <th>Area</th>\n",
              "      <th>City_Distance</th>\n",
              "      <th>Age</th>\n",
              "      <th>Price</th>\n",
              "    </tr>\n",
              "  </thead>\n",
              "  <tbody>\n",
              "    <tr>\n",
              "      <th>0</th>\n",
              "      <td>1</td>\n",
              "      <td>26.184098</td>\n",
              "      <td>1286.68</td>\n",
              "      <td>67</td>\n",
              "      <td>96004.804557</td>\n",
              "    </tr>\n",
              "    <tr>\n",
              "      <th>1</th>\n",
              "      <td>1</td>\n",
              "      <td>34.866901</td>\n",
              "      <td>1855.25</td>\n",
              "      <td>30</td>\n",
              "      <td>92473.722570</td>\n",
              "    </tr>\n",
              "    <tr>\n",
              "      <th>2</th>\n",
              "      <td>1</td>\n",
              "      <td>36.980709</td>\n",
              "      <td>692.09</td>\n",
              "      <td>24</td>\n",
              "      <td>98112.519940</td>\n",
              "    </tr>\n",
              "    <tr>\n",
              "      <th>3</th>\n",
              "      <td>1</td>\n",
              "      <td>17.445723</td>\n",
              "      <td>1399.49</td>\n",
              "      <td>66</td>\n",
              "      <td>92118.326874</td>\n",
              "    </tr>\n",
              "    <tr>\n",
              "      <th>4</th>\n",
              "      <td>1</td>\n",
              "      <td>52.587646</td>\n",
              "      <td>84.65</td>\n",
              "      <td>3</td>\n",
              "      <td>98976.653176</td>\n",
              "    </tr>\n",
              "  </tbody>\n",
              "</table>\n",
              "</div>\n",
              "    <div class=\"colab-df-buttons\">\n",
              "\n",
              "  <div class=\"colab-df-container\">\n",
              "    <button class=\"colab-df-convert\" onclick=\"convertToInteractive('df-9a5e6dae-0202-4733-90e1-c5f1ff0ab11d')\"\n",
              "            title=\"Convert this dataframe to an interactive table.\"\n",
              "            style=\"display:none;\">\n",
              "\n",
              "  <svg xmlns=\"http://www.w3.org/2000/svg\" height=\"24px\" viewBox=\"0 -960 960 960\">\n",
              "    <path d=\"M120-120v-720h720v720H120Zm60-500h600v-160H180v160Zm220 220h160v-160H400v160Zm0 220h160v-160H400v160ZM180-400h160v-160H180v160Zm440 0h160v-160H620v160ZM180-180h160v-160H180v160Zm440 0h160v-160H620v160Z\"/>\n",
              "  </svg>\n",
              "    </button>\n",
              "\n",
              "  <style>\n",
              "    .colab-df-container {\n",
              "      display:flex;\n",
              "      gap: 12px;\n",
              "    }\n",
              "\n",
              "    .colab-df-convert {\n",
              "      background-color: #E8F0FE;\n",
              "      border: none;\n",
              "      border-radius: 50%;\n",
              "      cursor: pointer;\n",
              "      display: none;\n",
              "      fill: #1967D2;\n",
              "      height: 32px;\n",
              "      padding: 0 0 0 0;\n",
              "      width: 32px;\n",
              "    }\n",
              "\n",
              "    .colab-df-convert:hover {\n",
              "      background-color: #E2EBFA;\n",
              "      box-shadow: 0px 1px 2px rgba(60, 64, 67, 0.3), 0px 1px 3px 1px rgba(60, 64, 67, 0.15);\n",
              "      fill: #174EA6;\n",
              "    }\n",
              "\n",
              "    .colab-df-buttons div {\n",
              "      margin-bottom: 4px;\n",
              "    }\n",
              "\n",
              "    [theme=dark] .colab-df-convert {\n",
              "      background-color: #3B4455;\n",
              "      fill: #D2E3FC;\n",
              "    }\n",
              "\n",
              "    [theme=dark] .colab-df-convert:hover {\n",
              "      background-color: #434B5C;\n",
              "      box-shadow: 0px 1px 3px 1px rgba(0, 0, 0, 0.15);\n",
              "      filter: drop-shadow(0px 1px 2px rgba(0, 0, 0, 0.3));\n",
              "      fill: #FFFFFF;\n",
              "    }\n",
              "  </style>\n",
              "\n",
              "    <script>\n",
              "      const buttonEl =\n",
              "        document.querySelector('#df-9a5e6dae-0202-4733-90e1-c5f1ff0ab11d button.colab-df-convert');\n",
              "      buttonEl.style.display =\n",
              "        google.colab.kernel.accessAllowed ? 'block' : 'none';\n",
              "\n",
              "      async function convertToInteractive(key) {\n",
              "        const element = document.querySelector('#df-9a5e6dae-0202-4733-90e1-c5f1ff0ab11d');\n",
              "        const dataTable =\n",
              "          await google.colab.kernel.invokeFunction('convertToInteractive',\n",
              "                                                    [key], {});\n",
              "        if (!dataTable) return;\n",
              "\n",
              "        const docLinkHtml = 'Like what you see? Visit the ' +\n",
              "          '<a target=\"_blank\" href=https://colab.research.google.com/notebooks/data_table.ipynb>data table notebook</a>'\n",
              "          + ' to learn more about interactive tables.';\n",
              "        element.innerHTML = '';\n",
              "        dataTable['output_type'] = 'display_data';\n",
              "        await google.colab.output.renderOutput(dataTable, element);\n",
              "        const docLink = document.createElement('div');\n",
              "        docLink.innerHTML = docLinkHtml;\n",
              "        element.appendChild(docLink);\n",
              "      }\n",
              "    </script>\n",
              "  </div>\n",
              "\n",
              "\n",
              "<div id=\"df-381bb67f-c7fd-4466-a58b-1df061b1fea7\">\n",
              "  <button class=\"colab-df-quickchart\" onclick=\"quickchart('df-381bb67f-c7fd-4466-a58b-1df061b1fea7')\"\n",
              "            title=\"Suggest charts\"\n",
              "            style=\"display:none;\">\n",
              "\n",
              "<svg xmlns=\"http://www.w3.org/2000/svg\" height=\"24px\"viewBox=\"0 0 24 24\"\n",
              "     width=\"24px\">\n",
              "    <g>\n",
              "        <path d=\"M19 3H5c-1.1 0-2 .9-2 2v14c0 1.1.9 2 2 2h14c1.1 0 2-.9 2-2V5c0-1.1-.9-2-2-2zM9 17H7v-7h2v7zm4 0h-2V7h2v10zm4 0h-2v-4h2v4z\"/>\n",
              "    </g>\n",
              "</svg>\n",
              "  </button>\n",
              "\n",
              "<style>\n",
              "  .colab-df-quickchart {\n",
              "      --bg-color: #E8F0FE;\n",
              "      --fill-color: #1967D2;\n",
              "      --hover-bg-color: #E2EBFA;\n",
              "      --hover-fill-color: #174EA6;\n",
              "      --disabled-fill-color: #AAA;\n",
              "      --disabled-bg-color: #DDD;\n",
              "  }\n",
              "\n",
              "  [theme=dark] .colab-df-quickchart {\n",
              "      --bg-color: #3B4455;\n",
              "      --fill-color: #D2E3FC;\n",
              "      --hover-bg-color: #434B5C;\n",
              "      --hover-fill-color: #FFFFFF;\n",
              "      --disabled-bg-color: #3B4455;\n",
              "      --disabled-fill-color: #666;\n",
              "  }\n",
              "\n",
              "  .colab-df-quickchart {\n",
              "    background-color: var(--bg-color);\n",
              "    border: none;\n",
              "    border-radius: 50%;\n",
              "    cursor: pointer;\n",
              "    display: none;\n",
              "    fill: var(--fill-color);\n",
              "    height: 32px;\n",
              "    padding: 0;\n",
              "    width: 32px;\n",
              "  }\n",
              "\n",
              "  .colab-df-quickchart:hover {\n",
              "    background-color: var(--hover-bg-color);\n",
              "    box-shadow: 0 1px 2px rgba(60, 64, 67, 0.3), 0 1px 3px 1px rgba(60, 64, 67, 0.15);\n",
              "    fill: var(--button-hover-fill-color);\n",
              "  }\n",
              "\n",
              "  .colab-df-quickchart-complete:disabled,\n",
              "  .colab-df-quickchart-complete:disabled:hover {\n",
              "    background-color: var(--disabled-bg-color);\n",
              "    fill: var(--disabled-fill-color);\n",
              "    box-shadow: none;\n",
              "  }\n",
              "\n",
              "  .colab-df-spinner {\n",
              "    border: 2px solid var(--fill-color);\n",
              "    border-color: transparent;\n",
              "    border-bottom-color: var(--fill-color);\n",
              "    animation:\n",
              "      spin 1s steps(1) infinite;\n",
              "  }\n",
              "\n",
              "  @keyframes spin {\n",
              "    0% {\n",
              "      border-color: transparent;\n",
              "      border-bottom-color: var(--fill-color);\n",
              "      border-left-color: var(--fill-color);\n",
              "    }\n",
              "    20% {\n",
              "      border-color: transparent;\n",
              "      border-left-color: var(--fill-color);\n",
              "      border-top-color: var(--fill-color);\n",
              "    }\n",
              "    30% {\n",
              "      border-color: transparent;\n",
              "      border-left-color: var(--fill-color);\n",
              "      border-top-color: var(--fill-color);\n",
              "      border-right-color: var(--fill-color);\n",
              "    }\n",
              "    40% {\n",
              "      border-color: transparent;\n",
              "      border-right-color: var(--fill-color);\n",
              "      border-top-color: var(--fill-color);\n",
              "    }\n",
              "    60% {\n",
              "      border-color: transparent;\n",
              "      border-right-color: var(--fill-color);\n",
              "    }\n",
              "    80% {\n",
              "      border-color: transparent;\n",
              "      border-right-color: var(--fill-color);\n",
              "      border-bottom-color: var(--fill-color);\n",
              "    }\n",
              "    90% {\n",
              "      border-color: transparent;\n",
              "      border-bottom-color: var(--fill-color);\n",
              "    }\n",
              "  }\n",
              "</style>\n",
              "\n",
              "  <script>\n",
              "    async function quickchart(key) {\n",
              "      const quickchartButtonEl =\n",
              "        document.querySelector('#' + key + ' button');\n",
              "      quickchartButtonEl.disabled = true;  // To prevent multiple clicks.\n",
              "      quickchartButtonEl.classList.add('colab-df-spinner');\n",
              "      try {\n",
              "        const charts = await google.colab.kernel.invokeFunction(\n",
              "            'suggestCharts', [key], {});\n",
              "      } catch (error) {\n",
              "        console.error('Error during call to suggestCharts:', error);\n",
              "      }\n",
              "      quickchartButtonEl.classList.remove('colab-df-spinner');\n",
              "      quickchartButtonEl.classList.add('colab-df-quickchart-complete');\n",
              "    }\n",
              "    (() => {\n",
              "      let quickchartButtonEl =\n",
              "        document.querySelector('#df-381bb67f-c7fd-4466-a58b-1df061b1fea7 button');\n",
              "      quickchartButtonEl.style.display =\n",
              "        google.colab.kernel.accessAllowed ? 'block' : 'none';\n",
              "    })();\n",
              "  </script>\n",
              "</div>\n",
              "    </div>\n",
              "  </div>\n"
            ],
            "application/vnd.google.colaboratory.intrinsic+json": {
              "type": "dataframe",
              "variable_name": "df",
              "summary": "{\n  \"name\": \"df\",\n  \"rows\": 4308,\n  \"fields\": [\n    {\n      \"column\": \"Bedrooms\",\n      \"properties\": {\n        \"dtype\": \"number\",\n        \"std\": 2,\n        \"min\": 1,\n        \"max\": 17,\n        \"num_unique_values\": 15,\n        \"samples\": [\n          10,\n          12,\n          1\n        ],\n        \"semantic_type\": \"\",\n        \"description\": \"\"\n      }\n    },\n    {\n      \"column\": \"Area\",\n      \"properties\": {\n        \"dtype\": \"number\",\n        \"std\": 95.46980163381154,\n        \"min\": 10.244518092962434,\n        \"max\": 750.9716038,\n        \"num_unique_values\": 4308,\n        \"samples\": [\n          23.67054572068581,\n          34.81538216061246,\n          164.49405165913183\n        ],\n        \"semantic_type\": \"\",\n        \"description\": \"\"\n      }\n    },\n    {\n      \"column\": \"City_Distance\",\n      \"properties\": {\n        \"dtype\": \"number\",\n        \"std\": 555.3258301312048,\n        \"min\": 11.8,\n        \"max\": 1999.84,\n        \"num_unique_values\": 4247,\n        \"samples\": [\n          846.45,\n          1546.05,\n          530.34\n        ],\n        \"semantic_type\": \"\",\n        \"description\": \"\"\n      }\n    },\n    {\n      \"column\": \"Age\",\n      \"properties\": {\n        \"dtype\": \"number\",\n        \"std\": 27,\n        \"min\": 0,\n        \"max\": 97,\n        \"num_unique_values\": 98,\n        \"samples\": [\n          69,\n          8,\n          28\n        ],\n        \"semantic_type\": \"\",\n        \"description\": \"\"\n      }\n    },\n    {\n      \"column\": \"Price\",\n      \"properties\": {\n        \"dtype\": \"number\",\n        \"std\": 3919.823988090481,\n        \"min\": 86113.59297392477,\n        \"max\": 118134.77118994546,\n        \"num_unique_values\": 4308,\n        \"samples\": [\n          90429.79122128176,\n          91026.05951505562,\n          96813.63951889094\n        ],\n        \"semantic_type\": \"\",\n        \"description\": \"\"\n      }\n    }\n  ]\n}"
            }
          },
          "metadata": {},
          "execution_count": 1
        }
      ]
    },
    {
      "cell_type": "code",
      "source": [
        "## create X matrix\n",
        "## y vector\n",
        "X = df.drop('Price', axis = 1).values\n",
        "y = df.Price.values"
      ],
      "metadata": {
        "id": "dcU0aZ_5bOOZ"
      },
      "execution_count": null,
      "outputs": []
    },
    {
      "cell_type": "code",
      "source": [
        "## no hidden layers\n",
        "from tensorflow.keras import Sequential\n",
        "from tensorflow.keras.layers import Input, Dense\n",
        "\n",
        "## instance\n",
        "nn = Sequential()\n",
        "nn.add(Input(shape = X.shape[1]))  # input layer\n",
        "nn.add(Dense(1, activation = \"linear\")) # output layer"
      ],
      "metadata": {
        "id": "t23hg8p-biPZ"
      },
      "execution_count": null,
      "outputs": []
    },
    {
      "cell_type": "code",
      "source": [
        "## number of parameters\n",
        "## 4 * 1 + 1\n",
        "nn.summary()"
      ],
      "metadata": {
        "colab": {
          "base_uri": "https://localhost:8080/"
        },
        "id": "swpSkuZpb-w8",
        "outputId": "52bd3703-0f9b-40d0-d899-87a667f132f8"
      },
      "execution_count": null,
      "outputs": [
        {
          "output_type": "stream",
          "name": "stdout",
          "text": [
            "Model: \"sequential\"\n",
            "_________________________________________________________________\n",
            " Layer (type)                Output Shape              Param #   \n",
            "=================================================================\n",
            " dense (Dense)               (None, 1)                 5         \n",
            "                                                                 \n",
            "=================================================================\n",
            "Total params: 5 (20.00 Byte)\n",
            "Trainable params: 5 (20.00 Byte)\n",
            "Non-trainable params: 0 (0.00 Byte)\n",
            "_________________________________________________________________\n"
          ]
        }
      ]
    },
    {
      "cell_type": "code",
      "source": [
        "## the weights (parameters) are randomly initializec\n",
        "## limit = sqrt(6 / (fan_in + fan_out))\n",
        "import numpy as np\n",
        "np.sqrt(6 / (4+1))"
      ],
      "metadata": {
        "colab": {
          "base_uri": "https://localhost:8080/"
        },
        "id": "TtqHzE1Gcd06",
        "outputId": "75531692-1ed4-4015-856e-81a4b68f3446"
      },
      "execution_count": null,
      "outputs": [
        {
          "output_type": "execute_result",
          "data": {
            "text/plain": [
              "1.0954451150103321"
            ]
          },
          "metadata": {},
          "execution_count": 6
        }
      ]
    },
    {
      "cell_type": "code",
      "source": [
        "[-1.0954451150103321, 1.0954451150103321]"
      ],
      "metadata": {
        "colab": {
          "base_uri": "https://localhost:8080/"
        },
        "id": "yTKq1B4sdFgT",
        "outputId": "93478c8c-f4b8-4b8d-b99c-f31d3a4b2c73"
      },
      "execution_count": null,
      "outputs": [
        {
          "output_type": "execute_result",
          "data": {
            "text/plain": [
              "[-1.0954451150103321, 1.0954451150103321]"
            ]
          },
          "metadata": {},
          "execution_count": 7
        }
      ]
    },
    {
      "cell_type": "code",
      "source": [
        "## the values of weights\n",
        "## are untrained - bad results\n",
        "nn.weights"
      ],
      "metadata": {
        "colab": {
          "base_uri": "https://localhost:8080/"
        },
        "id": "6VoiATRedLyS",
        "outputId": "bd8f5571-66b9-4396-f286-5bf221736dc2"
      },
      "execution_count": null,
      "outputs": [
        {
          "output_type": "execute_result",
          "data": {
            "text/plain": [
              "[<tf.Variable 'dense/kernel:0' shape=(4, 1) dtype=float32, numpy=\n",
              " array([[ 0.796713  ],\n",
              "        [ 0.1376977 ],\n",
              "        [ 0.42014325],\n",
              "        [-0.07861173]], dtype=float32)>,\n",
              " <tf.Variable 'dense/bias:0' shape=(1,) dtype=float32, numpy=array([0.], dtype=float32)>]"
            ]
          },
          "metadata": {},
          "execution_count": 8
        }
      ]
    },
    {
      "cell_type": "code",
      "source": [
        "## predictions\n",
        "nn.predict(X)"
      ],
      "metadata": {
        "colab": {
          "base_uri": "https://localhost:8080/"
        },
        "id": "umLAj1qcdWQK",
        "outputId": "4272f144-5a07-4d1c-ed70-fcf977dddfb8"
      },
      "execution_count": null,
      "outputs": [
        {
          "output_type": "stream",
          "name": "stdout",
          "text": [
            "135/135 [==============================] - 0s 1ms/step\n"
          ]
        },
        {
          "output_type": "execute_result",
          "data": {
            "text/plain": [
              "array([[539.72516],\n",
              "       [782.7102 ],\n",
              "       [294.77914],\n",
              "       ...,\n",
              "       [710.9223 ],\n",
              "       [801.34766],\n",
              "       [116.32672]], dtype=float32)"
            ]
          },
          "metadata": {},
          "execution_count": 9
        }
      ]
    },
    {
      "cell_type": "code",
      "source": [
        "## network loss function calculates this\n",
        "(y - nn.predict(X))**2"
      ],
      "metadata": {
        "colab": {
          "base_uri": "https://localhost:8080/"
        },
        "id": "B5c0JlvbdqH7",
        "outputId": "61cad724-ab97-4db5-9a9a-f53d97906637"
      },
      "execution_count": null,
      "outputs": [
        {
          "output_type": "stream",
          "name": "stdout",
          "text": [
            "135/135 [==============================] - 0s 2ms/step\n"
          ]
        },
        {
          "output_type": "execute_result",
          "data": {
            "text/plain": [
              "array([[9.07250483e+09, 8.41230439e+09, 9.47846580e+09, ...,\n",
              "        8.65804351e+09, 8.49339590e+09, 8.64675698e+09],\n",
              "       [8.99686418e+09, 8.33947375e+09, 9.40114784e+09, ...,\n",
              "        8.58415447e+09, 8.42021430e+09, 8.57291622e+09],\n",
              "       [9.14101824e+09, 8.47828266e+09, 9.54849244e+09, ...,\n",
              "        8.72497665e+09, 8.55969079e+09, 8.71364657e+09],\n",
              "       ...,\n",
              "       [9.07238503e+09, 8.41218903e+09, 9.47834335e+09, ...,\n",
              "        8.65792648e+09, 8.49327999e+09, 8.64664003e+09],\n",
              "       [8.98589982e+09, 8.32891768e+09, 9.38993977e+09, ...,\n",
              "        8.57344462e+09, 8.40960725e+09, 8.56221339e+09],\n",
              "       [9.19459966e+09, 8.52988807e+09, 9.60325336e+09, ...,\n",
              "        8.77732633e+09, 8.61154299e+09, 8.76596230e+09]])"
            ]
          },
          "metadata": {},
          "execution_count": 65
        }
      ]
    },
    {
      "cell_type": "code",
      "source": [
        "## calculate the cost function (sum or average)\n",
        "np.sum((y - nn.predict(X))**2) / X.shape[0]"
      ],
      "metadata": {
        "colab": {
          "base_uri": "https://localhost:8080/"
        },
        "id": "TQ1duKFjeHZ4",
        "outputId": "68b96434-014a-4cc7-81d2-3fd25d628514"
      },
      "execution_count": null,
      "outputs": [
        {
          "output_type": "stream",
          "name": "stdout",
          "text": [
            "135/135 [==============================] - 1s 6ms/step\n"
          ]
        },
        {
          "output_type": "execute_result",
          "data": {
            "text/plain": [
              "39063808124768.67"
            ]
          },
          "metadata": {},
          "execution_count": 66
        }
      ]
    },
    {
      "cell_type": "code",
      "source": [
        "## compile\n",
        "import tensorflow as tf\n",
        "nn.compile(optimizer = \"adam\", loss = \"mean_squared_error\", metrics = [tf.keras.metrics.R2Score()])"
      ],
      "metadata": {
        "id": "6ia32xm8eedE"
      },
      "execution_count": null,
      "outputs": []
    },
    {
      "cell_type": "code",
      "source": [
        "X.shape"
      ],
      "metadata": {
        "colab": {
          "base_uri": "https://localhost:8080/"
        },
        "id": "jaCMCitOmHbS",
        "outputId": "e90392c9-428c-481d-9bc0-3bf0af8fe750"
      },
      "execution_count": null,
      "outputs": [
        {
          "output_type": "execute_result",
          "data": {
            "text/plain": [
              "(4308, 4)"
            ]
          },
          "metadata": {},
          "execution_count": 26
        }
      ]
    },
    {
      "cell_type": "code",
      "source": [
        "batch = 100\n",
        "X.shape[0] / 100"
      ],
      "metadata": {
        "colab": {
          "base_uri": "https://localhost:8080/"
        },
        "id": "oKqO1-i4mL_R",
        "outputId": "45cd3805-b812-4559-8c90-0ed9b2bf2fb5"
      },
      "execution_count": null,
      "outputs": [
        {
          "output_type": "execute_result",
          "data": {
            "text/plain": [
              "43.08"
            ]
          },
          "metadata": {},
          "execution_count": 27
        }
      ]
    },
    {
      "cell_type": "code",
      "source": [
        "## fit\n",
        "nn.fit(X, y, batch_size = 100, epochs = 5)"
      ],
      "metadata": {
        "colab": {
          "base_uri": "https://localhost:8080/"
        },
        "id": "yT7SypE1fmkt",
        "outputId": "18846b40-e61f-4512-a8a2-d6df4f28c9e1"
      },
      "execution_count": null,
      "outputs": [
        {
          "output_type": "stream",
          "name": "stdout",
          "text": [
            "Epoch 1/5\n",
            "44/44 [==============================] - 0s 3ms/step - loss: 8947801088.0000 - r2_score: -581.4050\n",
            "Epoch 2/5\n",
            "44/44 [==============================] - 0s 3ms/step - loss: 8937401344.0000 - r2_score: -580.6913\n",
            "Epoch 3/5\n",
            "44/44 [==============================] - 0s 2ms/step - loss: 8927039488.0000 - r2_score: -580.0905\n",
            "Epoch 4/5\n",
            "44/44 [==============================] - 0s 2ms/step - loss: 8916668416.0000 - r2_score: -579.5258\n",
            "Epoch 5/5\n",
            "44/44 [==============================] - 0s 2ms/step - loss: 8906298368.0000 - r2_score: -578.7404\n"
          ]
        },
        {
          "output_type": "execute_result",
          "data": {
            "text/plain": [
              "<keras.src.callbacks.History at 0x7b8a7197ba00>"
            ]
          },
          "metadata": {},
          "execution_count": 31
        }
      ]
    },
    {
      "cell_type": "code",
      "source": [
        "## weights\n",
        "nn.weights"
      ],
      "metadata": {
        "colab": {
          "base_uri": "https://localhost:8080/"
        },
        "id": "VDkQhovffwmc",
        "outputId": "5bf0adff-e53f-4f82-9b98-7e121c987dab"
      },
      "execution_count": null,
      "outputs": [
        {
          "output_type": "execute_result",
          "data": {
            "text/plain": [
              "[<tf.Variable 'dense/kernel:0' shape=(4, 1) dtype=float32, numpy=\n",
              " array([[1.1300153 ],\n",
              "        [0.4703951 ],\n",
              "        [0.75382495],\n",
              "        [0.25546932]], dtype=float32)>,\n",
              " <tf.Variable 'dense/bias:0' shape=(1,) dtype=float32, numpy=array([0.33407843], dtype=float32)>]"
            ]
          },
          "metadata": {},
          "execution_count": 29
        }
      ]
    },
    {
      "cell_type": "markdown",
      "source": [
        "## **Goal**\n",
        "\n",
        "Get the best weights and the best bias. Tuning those weights to the optimal is the goal. A trained model has the best parameters given the data. We call a model that has been trained a \"pre-trained\" model. E.g., ChatGPT is a pre-trained neural net."
      ],
      "metadata": {
        "id": "uIVpOVVqnYIT"
      }
    },
    {
      "cell_type": "code",
      "source": [
        "## a deeper NN\n",
        "nn1 = Sequential()\n",
        "nn1.add(Input(shape = X.shape[1]))\n",
        "nn1.add(Dense(10, activation = \"relu\")) ## H1 the derivative is {0,1}\n",
        "nn1.add(Dense(5, activation = \"relu\"))  ## H2\n",
        "nn1.add(Dense(1, activation = \"linear\" ))  ## regression (linear)"
      ],
      "metadata": {
        "id": "TPVH-NQAf3_U"
      },
      "execution_count": null,
      "outputs": []
    },
    {
      "cell_type": "code",
      "source": [
        "(4*10 + 10) + (10*5 + 5) + (5*1 + 1)"
      ],
      "metadata": {
        "colab": {
          "base_uri": "https://localhost:8080/"
        },
        "id": "XVHX0UifrULM",
        "outputId": "3bda7666-b9ba-4a36-cfca-d969cfbc6a00"
      },
      "execution_count": null,
      "outputs": [
        {
          "output_type": "execute_result",
          "data": {
            "text/plain": [
              "111"
            ]
          },
          "metadata": {},
          "execution_count": 34
        }
      ]
    },
    {
      "cell_type": "code",
      "source": [
        "nn1.summary()"
      ],
      "metadata": {
        "colab": {
          "base_uri": "https://localhost:8080/"
        },
        "id": "9tdIg20HrOEr",
        "outputId": "5dc51943-5edb-4d13-e4db-2302798acf90"
      },
      "execution_count": null,
      "outputs": [
        {
          "output_type": "stream",
          "name": "stdout",
          "text": [
            "Model: \"sequential_1\"\n",
            "_________________________________________________________________\n",
            " Layer (type)                Output Shape              Param #   \n",
            "=================================================================\n",
            " dense_1 (Dense)             (None, 10)                50        \n",
            "                                                                 \n",
            " dense_2 (Dense)             (None, 5)                 55        \n",
            "                                                                 \n",
            " dense_3 (Dense)             (None, 1)                 6         \n",
            "                                                                 \n",
            "=================================================================\n",
            "Total params: 111 (444.00 Byte)\n",
            "Trainable params: 111 (444.00 Byte)\n",
            "Non-trainable params: 0 (0.00 Byte)\n",
            "_________________________________________________________________\n"
          ]
        }
      ]
    },
    {
      "cell_type": "code",
      "source": [
        "nn1.compile(optimizer = \"adam\", loss = \"mean_squared_error\", metrics = [tf.keras.metrics.RootMeanSquaredError()])"
      ],
      "metadata": {
        "id": "nNnwPBzErQyi"
      },
      "execution_count": null,
      "outputs": []
    },
    {
      "cell_type": "code",
      "source": [
        "nn1.fit(X, y, batch_size = 32, epochs = 50)"
      ],
      "metadata": {
        "colab": {
          "base_uri": "https://localhost:8080/"
        },
        "id": "rECYg_3Mr7Kk",
        "outputId": "466e98e4-8b08-4e28-ed13-084a5b74abcf"
      },
      "execution_count": null,
      "outputs": [
        {
          "output_type": "stream",
          "name": "stdout",
          "text": [
            "Epoch 1/50\n",
            "135/135 [==============================] - 1s 2ms/step - loss: 9151342592.0000 - root_mean_squared_error: 95662.6484\n",
            "Epoch 2/50\n",
            "135/135 [==============================] - 0s 2ms/step - loss: 8876015616.0000 - root_mean_squared_error: 94212.6094\n",
            "Epoch 3/50\n",
            "135/135 [==============================] - 0s 2ms/step - loss: 7990065664.0000 - root_mean_squared_error: 89387.1641\n",
            "Epoch 4/50\n",
            "135/135 [==============================] - 0s 2ms/step - loss: 6232995840.0000 - root_mean_squared_error: 78949.3281\n",
            "Epoch 5/50\n",
            "135/135 [==============================] - 0s 3ms/step - loss: 3952062208.0000 - root_mean_squared_error: 62865.4297\n",
            "Epoch 6/50\n",
            "135/135 [==============================] - 0s 2ms/step - loss: 2346914048.0000 - root_mean_squared_error: 48444.9570\n",
            "Epoch 7/50\n",
            "135/135 [==============================] - 0s 3ms/step - loss: 1769375872.0000 - root_mean_squared_error: 42063.9492\n",
            "Epoch 8/50\n",
            "135/135 [==============================] - 0s 3ms/step - loss: 1659301376.0000 - root_mean_squared_error: 40734.5234\n",
            "Epoch 9/50\n",
            "135/135 [==============================] - 0s 3ms/step - loss: 1630258432.0000 - root_mean_squared_error: 40376.4570\n",
            "Epoch 10/50\n",
            "135/135 [==============================] - 0s 3ms/step - loss: 1605893120.0000 - root_mean_squared_error: 40073.5977\n",
            "Epoch 11/50\n",
            "135/135 [==============================] - 0s 3ms/step - loss: 1581080704.0000 - root_mean_squared_error: 39762.8047\n",
            "Epoch 12/50\n",
            "135/135 [==============================] - 0s 3ms/step - loss: 1555757056.0000 - root_mean_squared_error: 39443.0859\n",
            "Epoch 13/50\n",
            "135/135 [==============================] - 0s 3ms/step - loss: 1530294656.0000 - root_mean_squared_error: 39118.9805\n",
            "Epoch 14/50\n",
            "135/135 [==============================] - 0s 2ms/step - loss: 1504110080.0000 - root_mean_squared_error: 38782.8594\n",
            "Epoch 15/50\n",
            "135/135 [==============================] - 0s 2ms/step - loss: 1477787776.0000 - root_mean_squared_error: 38442.0039\n",
            "Epoch 16/50\n",
            "135/135 [==============================] - 0s 2ms/step - loss: 1451268224.0000 - root_mean_squared_error: 38095.5156\n",
            "Epoch 17/50\n",
            "135/135 [==============================] - 0s 2ms/step - loss: 1424637440.0000 - root_mean_squared_error: 37744.3711\n",
            "Epoch 18/50\n",
            "135/135 [==============================] - 0s 2ms/step - loss: 1397860352.0000 - root_mean_squared_error: 37387.9688\n",
            "Epoch 19/50\n",
            "135/135 [==============================] - 0s 2ms/step - loss: 1371439232.0000 - root_mean_squared_error: 37032.9492\n",
            "Epoch 20/50\n",
            "135/135 [==============================] - 0s 2ms/step - loss: 1345194752.0000 - root_mean_squared_error: 36676.8984\n",
            "Epoch 21/50\n",
            "135/135 [==============================] - 0s 2ms/step - loss: 1319700096.0000 - root_mean_squared_error: 36327.6758\n",
            "Epoch 22/50\n",
            "135/135 [==============================] - 0s 2ms/step - loss: 1294453504.0000 - root_mean_squared_error: 35978.5156\n",
            "Epoch 23/50\n",
            "135/135 [==============================] - 0s 2ms/step - loss: 1270022656.0000 - root_mean_squared_error: 35637.3789\n",
            "Epoch 24/50\n",
            "135/135 [==============================] - 0s 2ms/step - loss: 1247089792.0000 - root_mean_squared_error: 35314.1602\n",
            "Epoch 25/50\n",
            "135/135 [==============================] - 0s 2ms/step - loss: 1225052544.0000 - root_mean_squared_error: 35000.7500\n",
            "Epoch 26/50\n",
            "135/135 [==============================] - 0s 2ms/step - loss: 1204676608.0000 - root_mean_squared_error: 34708.4531\n",
            "Epoch 27/50\n",
            "135/135 [==============================] - 0s 2ms/step - loss: 1186468352.0000 - root_mean_squared_error: 34445.1484\n",
            "Epoch 28/50\n",
            "135/135 [==============================] - 0s 2ms/step - loss: 1169093120.0000 - root_mean_squared_error: 34192.0039\n",
            "Epoch 29/50\n",
            "135/135 [==============================] - 0s 2ms/step - loss: 1153620864.0000 - root_mean_squared_error: 33964.9961\n",
            "Epoch 30/50\n",
            "135/135 [==============================] - 0s 2ms/step - loss: 1140107264.0000 - root_mean_squared_error: 33765.4727\n",
            "Epoch 31/50\n",
            "135/135 [==============================] - 0s 2ms/step - loss: 1127438208.0000 - root_mean_squared_error: 33577.3477\n",
            "Epoch 32/50\n",
            "135/135 [==============================] - 0s 2ms/step - loss: 1115407616.0000 - root_mean_squared_error: 33397.7188\n",
            "Epoch 33/50\n",
            "135/135 [==============================] - 0s 2ms/step - loss: 1105226112.0000 - root_mean_squared_error: 33244.9414\n",
            "Epoch 34/50\n",
            "135/135 [==============================] - 0s 2ms/step - loss: 1095219328.0000 - root_mean_squared_error: 33094.0977\n",
            "Epoch 35/50\n",
            "135/135 [==============================] - 0s 2ms/step - loss: 1086907392.0000 - root_mean_squared_error: 32968.2773\n",
            "Epoch 36/50\n",
            "135/135 [==============================] - 0s 2ms/step - loss: 1077553792.0000 - root_mean_squared_error: 32826.1133\n",
            "Epoch 37/50\n",
            "135/135 [==============================] - 0s 2ms/step - loss: 1069445440.0000 - root_mean_squared_error: 32702.3770\n",
            "Epoch 38/50\n",
            "135/135 [==============================] - 0s 2ms/step - loss: 1062946304.0000 - root_mean_squared_error: 32602.8574\n",
            "Epoch 39/50\n",
            "135/135 [==============================] - 0s 2ms/step - loss: 1054119360.0000 - root_mean_squared_error: 32467.2051\n",
            "Epoch 40/50\n",
            "135/135 [==============================] - 0s 2ms/step - loss: 1047133696.0000 - root_mean_squared_error: 32359.4453\n",
            "Epoch 41/50\n",
            "135/135 [==============================] - 0s 2ms/step - loss: 1039968960.0000 - root_mean_squared_error: 32248.5488\n",
            "Epoch 42/50\n",
            "135/135 [==============================] - 0s 2ms/step - loss: 1033185792.0000 - root_mean_squared_error: 32143.2070\n",
            "Epoch 43/50\n",
            "135/135 [==============================] - 0s 2ms/step - loss: 1026674432.0000 - root_mean_squared_error: 32041.7617\n",
            "Epoch 44/50\n",
            "135/135 [==============================] - 0s 2ms/step - loss: 1020023424.0000 - root_mean_squared_error: 31937.8047\n",
            "Epoch 45/50\n",
            "135/135 [==============================] - 0s 2ms/step - loss: 1013414528.0000 - root_mean_squared_error: 31834.1719\n",
            "Epoch 46/50\n",
            "135/135 [==============================] - 0s 2ms/step - loss: 1006125888.0000 - root_mean_squared_error: 31719.4883\n",
            "Epoch 47/50\n",
            "135/135 [==============================] - 0s 2ms/step - loss: 998154688.0000 - root_mean_squared_error: 31593.5859\n",
            "Epoch 48/50\n",
            "135/135 [==============================] - 0s 2ms/step - loss: 987301056.0000 - root_mean_squared_error: 31421.3477\n",
            "Epoch 49/50\n",
            "135/135 [==============================] - 0s 2ms/step - loss: 974044864.0000 - root_mean_squared_error: 31209.6914\n",
            "Epoch 50/50\n",
            "135/135 [==============================] - 0s 2ms/step - loss: 961527104.0000 - root_mean_squared_error: 31008.5000\n"
          ]
        },
        {
          "output_type": "execute_result",
          "data": {
            "text/plain": [
              "<keras.src.callbacks.History at 0x7b8a736d9a80>"
            ]
          },
          "metadata": {},
          "execution_count": 38
        }
      ]
    },
    {
      "cell_type": "code",
      "source": [
        "## R2\n",
        "## R2 = SSR/SST\n",
        "\n",
        "## comparing against the prediction y = ybar (average)"
      ],
      "metadata": {
        "id": "1Uu1H-J_sIoP"
      },
      "execution_count": null,
      "outputs": []
    },
    {
      "cell_type": "code",
      "source": [
        "nn1.weights"
      ],
      "metadata": {
        "colab": {
          "base_uri": "https://localhost:8080/"
        },
        "id": "gYQ1O7n9tFtf",
        "outputId": "f5646278-304e-4c03-f2b7-4b66336516af"
      },
      "execution_count": null,
      "outputs": [
        {
          "output_type": "execute_result",
          "data": {
            "text/plain": [
              "[<tf.Variable 'dense_1/kernel:0' shape=(4, 10) dtype=float32, numpy=\n",
              " array([[ 4.884289  ,  0.08256906, -0.19915605,  0.15013611,  4.6261144 ,\n",
              "          4.796598  ,  3.9248853 , -0.15050946,  4.2314506 , -0.28682336],\n",
              "        [ 1.8514935 , -0.37287036, -0.2393775 , -0.41574317,  2.331868  ,\n",
              "          2.8497903 ,  1.7188504 ,  0.01952243,  1.8543427 , -0.6148599 ],\n",
              "        [ 0.69465536, -0.21028906, -0.06992441, -0.4817329 ,  0.44170555,\n",
              "         -0.39742118,  0.8978245 , -0.14551088,  0.98666334, -0.63004446],\n",
              "        [ 4.878283  , -0.25329795, -0.14383328, -0.03242987,  5.608528  ,\n",
              "          5.5731544 ,  4.7261195 , -0.60346663,  4.7189054 ,  0.12387103]],\n",
              "       dtype=float32)>,\n",
              " <tf.Variable 'dense_1/bias:0' shape=(10,) dtype=float32, numpy=\n",
              " array([ 6.344052  ,  0.        ,  0.        ,  0.        ,  6.407063  ,\n",
              "         6.592677  ,  6.314718  , -0.02290215,  6.318184  ,  0.        ],\n",
              "       dtype=float32)>,\n",
              " <tf.Variable 'dense_2/kernel:0' shape=(10, 5) dtype=float32, numpy=\n",
              " array([[ 1.933868  ,  0.27320665,  1.2310545 ,  1.8316815 ,  1.5147451 ],\n",
              "        [ 0.3631609 , -0.46520984,  0.3832808 ,  0.3078329 ,  0.516995  ],\n",
              "        [ 0.53156155, -0.20350397,  0.43674058, -0.07053661,  0.1877079 ],\n",
              "        [ 0.06020033,  0.4716745 ,  0.43407565,  0.36836535, -0.21184441],\n",
              "        [ 1.9878925 , -0.5495479 ,  2.4847798 ,  2.569907  ,  2.3518422 ],\n",
              "        [ 3.6610918 ,  0.18158218,  2.8311923 ,  2.5219426 ,  2.5693734 ],\n",
              "        [ 1.1970845 , -0.45358473,  1.8963177 ,  1.5677259 ,  1.2254026 ],\n",
              "        [-0.50671816,  0.271421  , -0.10500655,  0.2297686 ,  0.1496791 ],\n",
              "        [ 1.0535336 ,  0.2485489 ,  0.6667625 ,  0.87169886,  1.5339483 ],\n",
              "        [ 0.3476361 , -0.04340768,  0.56927544,  0.5237526 , -0.53194535]],\n",
              "       dtype=float32)>,\n",
              " <tf.Variable 'dense_2/bias:0' shape=(5,) dtype=float32, numpy=\n",
              " array([ 6.1426196 , -0.10936029,  5.471522  ,  5.5086    ,  5.4775066 ],\n",
              "       dtype=float32)>,\n",
              " <tf.Variable 'dense_3/kernel:0' shape=(5, 1) dtype=float32, numpy=\n",
              " array([[ 2.085656  ],\n",
              "        [-0.09897514],\n",
              "        [ 2.7047281 ],\n",
              "        [ 2.419043  ],\n",
              "        [ 2.2214887 ]], dtype=float32)>,\n",
              " <tf.Variable 'dense_3/bias:0' shape=(1,) dtype=float32, numpy=array([4.3159366], dtype=float32)>]"
            ]
          },
          "metadata": {},
          "execution_count": 39
        }
      ]
    },
    {
      "cell_type": "code",
      "source": [],
      "metadata": {
        "id": "WXg__qrUtGmd"
      },
      "execution_count": null,
      "outputs": []
    }
  ]
}